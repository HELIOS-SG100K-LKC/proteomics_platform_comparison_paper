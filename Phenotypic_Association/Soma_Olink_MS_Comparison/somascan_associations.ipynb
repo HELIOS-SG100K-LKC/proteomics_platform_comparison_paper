{
 "cells": [
  {
   "cell_type": "code",
   "execution_count": 1,
   "metadata": {},
   "outputs": [],
   "source": [
    "import pandas as pd\n",
    "import numpy as np\n",
    "import statsmodels.api as sm\n",
    "import scipy.stats as stats\n",
    "from statsmodels.stats.multitest import multipletests"
   ]
  },
  {
   "cell_type": "code",
   "execution_count": 2,
   "metadata": {},
   "outputs": [],
   "source": [
    "def perform_regression_fdr(df_pheno, df_proteome, Protein_ID, platform_name, df_proteome_median, type):\n",
    "    def run_regression(y, X, family):\n",
    "        X = sm.add_constant(X)  # Add constant term for intercept\n",
    "        if family == 'binomial':\n",
    "            model = sm.GLM(y, X, family=sm.families.Binomial()).fit()\n",
    "        else:\n",
    "            model = sm.GLM(y, X, family=sm.families.Gaussian()).fit()\n",
    "        return model\n",
    "\n",
    "    df_proteome = df_proteome.to_numpy()\n",
    "\n",
    "    # Define the dependent variables and their respective covariates\n",
    "    regression_config = {\n",
    "        'Age': (['Sex', 'Bmi'], 'gaussian'),\n",
    "        'Sex': (['Age', 'Bmi'], 'binomial'),\n",
    "        'Bmi': (['Age', 'Sex'], 'gaussian')\n",
    "    }\n",
    "    # Define common covariates\n",
    "    common_covariates = ['FREG5_Ethnic_Group_I', 'FREG5_Ethnic_Group_M']\n",
    "    results = {dep_var: [] for dep_var in regression_config}\n",
    "\n",
    "    for i in range(df_proteome.shape[1]):\n",
    "        if type=='preanml':\n",
    "            protein_data = df_proteome[:, i]\n",
    "        else:\n",
    "            protein_data = df_proteome[:, i]\n",
    "        \n",
    "        for dep_var, (covariates, family) in regression_config.items():\n",
    "            X = np.column_stack((protein_data, df_pheno[covariates].values, df_pheno[common_covariates].values))\n",
    "            #X = np.column_stack((protein_data, df_pheno[covariates].values))\n",
    "            model = run_regression(df_pheno[dep_var], X, family)\n",
    "            results[dep_var].append([\n",
    "    Protein_ID[i], model.params.iloc[1], model.bse.iloc[1], model.tvalues.iloc[1], model.pvalues.iloc[1]\n",
    "])\n",
    "\n",
    "    significance_value = 0.05\n",
    "    bonferroni_threshold = significance_value / len(Protein_ID)\n",
    "    significant_results = {}\n",
    "    top_10_results = {}\n",
    "    allresults = {}\n",
    "    significant_results_no_corr={}\n",
    "\n",
    "    print(f\"Number of samples: {df_pheno.shape[0]}\")\n",
    "    print(f\"Number of proteins: {df_proteome.shape[1]}\")\n",
    "\n",
    "    for dep_var, result_list in results.items():\n",
    "        columns = ['Protein_ID', 'Est', 'SE', 't_value', 'P']\n",
    "        res_df = pd.DataFrame(result_list, columns=columns)\n",
    "\n",
    "        # Print uncorrected p-value threshold\n",
    "        print(f\"Uncorrected p-value threshold: {significance_value}\")\n",
    "        print(f\"Bonferroni correction threshold: {bonferroni_threshold}\")\n",
    "\n",
    "        res_df = res_df.dropna(subset=['P'])\n",
    "\n",
    "        # FDR correction\n",
    "        res_df['FDR_P'] = multipletests(res_df['P'], method='fdr_bh')[1]\n",
    "\n",
    "        # Bonferroni correction\n",
    "        res_df['Bonferroni_P'] = res_df['P'] < bonferroni_threshold\n",
    "\n",
    "        # Find and print the FDR p-value threshold\n",
    "        fdr_threshold = res_df[res_df['FDR_P'] < significance_value]['FDR_P'].max()\n",
    "        print(f\"FDR-corrected p-value threshold for {dep_var}: {fdr_threshold}\")\n",
    "\n",
    "        print(f\"Number of significant results for {dep_var} (uncorrected): {res_df[res_df['P'] < significance_value].shape[0]}\")\n",
    "        print(f\"Number of significant results for {dep_var} (FDR corrected): {res_df[res_df['FDR_P'] < significance_value].shape[0]}\")\n",
    "        print(f\"Number of significant results for {dep_var} (Bonferroni corrected): {res_df[res_df['Bonferroni_P']].shape[0]}\")\n",
    "\n",
    "        # Filter significant results using FDR-corrected p-values\n",
    "        sig_res_df = res_df[res_df['FDR_P'] < significance_value]\n",
    "        significant_results[dep_var] = sig_res_df\n",
    "\n",
    "        # Annotate with Uniprot ID names\n",
    "        uniprot = pd.read_csv(\"../data/uniprotkb_Human_AND_model_organism_9606_2024_05_20.tsv\", sep='\\t')\n",
    "        uniprot = uniprot.iloc[:, [0, 3, 4, 7]]\n",
    "\n",
    "        final_out = pd.merge(res_df, uniprot, left_on='Protein_ID', right_on='Entry', how='left')\n",
    "        final_out = final_out.sort_values(by='FDR_P')\n",
    "        #final_out = pd.merge(final_out, df_proteome_median, left_on='Protein_ID', right_index=True, how='left')\n",
    "\n",
    "        allresults[dep_var] = final_out\n",
    "        # Save annotated results file\n",
    "        output_file = f\"./output/all/{platform_name}_{dep_var.lower()}_associations_{type}_fdr_corrected.csv\"\n",
    "        final_out.to_csv(output_file, sep='\\t', index=False)\n",
    "        print(f\"Saved all {dep_var} associations to {output_file}\")\n",
    "\n",
    "        #save significant results\n",
    "        sig_output_file = f\"./output/significant/{platform_name}_{dep_var.lower()}_significant_associations_{type}_fdr_corrected.csv\"\n",
    "        sig_res_df.to_csv(sig_output_file, sep='\\t', index=False)\n",
    "        print(f\"Saved significant {dep_var} associations to {sig_output_file}\")\n",
    "\n",
    "        # Store the top 10 significant results for each dependent variable\n",
    "        top_10_results[dep_var] = final_out.head(10)\n",
    "\n",
    "    # Lookup known associations by Uniprot ID (example: P15502)\n",
    "    lookup_results = {dep_var: final_out[final_out['Protein_ID'] == \"P15502\"] for dep_var, final_out in significant_results.items()}\n",
    "\n",
    "    return significant_results, top_10_results, lookup_results, allresults\n"
   ]
  },
  {
   "cell_type": "code",
   "execution_count": 3,
   "metadata": {},
   "outputs": [],
   "source": [
    "# read the data for anml normalization now\n",
    "\n",
    "def process_somalogic_data(type, tech_rep, normalization):\n",
    "    \"\"\"\n",
    "    Process Somalogic data for either 'all' or 'unique' data type.\n",
    "    \n",
    "    Parameters:\n",
    "        type: str\n",
    "            'all' or 'unique' to determine which dataset to process.\n",
    "        tech_rep: int or str\n",
    "            Technical replicate identifier to filter unique participants.\n",
    "            \n",
    "    Returns:\n",
    "        tuple: (df_pheno, df_proteome, df_proteome_median)\n",
    "    \"\"\"\n",
    "    # Read data\n",
    "    def read_data(type):\n",
    "        if type == 'anml':\n",
    "            merged_df = pd.read_csv('../../data/somalogic/Preprocessed_data/Somalogic_Merged_All.csv')\n",
    "        else:\n",
    "            merged_df = pd.read_csv('../../data/somalogic/Preprocessed_data_preANML/Somalogic_Merged_All.csv')\n",
    "            #merged_df = pd.read_csv('../../data/somalogic/Preprocessed_data_preANML/Somalogic_Merged_Unique.csv')\n",
    "\n",
    "        return merged_df\n",
    "\n",
    "    merged_df = read_data(type)\n",
    "    \n",
    "    # Drop rows where SampleType column is not 'Sample'\n",
    "   \n",
    "    merged_df = merged_df[merged_df['SampleType'] == 'Sample']\n",
    "    \n",
    "    # Apply log2 transformation if type is 'all'\n",
    "    merged_df.iloc[:, 20:] = merged_df.iloc[:, 20:].apply(lambda x: np.log2(x + 1))\n",
    "    \n",
    "    # Load phenotype data\n",
    "    pheno = pd.read_csv(\"../data/HELIOS_Core_v4.csv\")\n",
    "    \n",
    "    # Filter unique participants based on tech_rep\n",
    "     # df_unique = df[(df['tech_rep_id'] == \"N\") & (df['bio_rep_id'] == \"N\") | (df['tech_rep'] == 1)]\n",
    "    df_unique = merged_df[(merged_df['tech_rep_id'] == \"N\") & (merged_df['bio_rep_id'] == \"N\") | (merged_df['tech_rep'] == tech_rep)]\n",
    "    \n",
    "    # Subset and factorize phenotypes\n",
    "    pheno = (pheno\n",
    "             .assign(Bmi=lambda x: 100*100*x['DBI14_Weight'] / (x['DBI13_Height']**2))\n",
    "             .assign(Age=lambda x: x['FREG8_Age'],\n",
    "                     Sex=lambda x: np.where(x['FREG7_Gender'] == \"F\", 1, 0))\n",
    "             .loc[:, ['FREG1_Barcode', 'Age', 'Sex', 'FREG5_Ethnic_Group', 'Bmi']]\n",
    "             .query('FREG5_Ethnic_Group != \"O\"'))\n",
    "\n",
    "    pheno['Sex'] = pheno['Sex'].astype('category')\n",
    "    pheno['ethnicity'] = pheno['FREG5_Ethnic_Group']\n",
    "    pheno = pd.get_dummies(pheno, columns=['FREG5_Ethnic_Group'], drop_first=False)\n",
    "    \n",
    "    # Merge phenotype and proteomics data\n",
    "    df_unique = pd.merge(pheno, df_unique, on='FREG1_Barcode')\n",
    "    \n",
    "    # Separate phenotype and proteomic datasets\n",
    "    df_pheno = df_unique.iloc[:, :27]\n",
    "    def inverse_normal_transform(series):\n",
    "        ranks = stats.rankdata(series)  # Rank the data\n",
    "        ranks = (ranks - 0.5) / len(series)  # Convert ranks to percentiles\n",
    "        transformed = stats.norm.ppf(ranks)  # Apply inverse normal transformation\n",
    "        return transformed\n",
    "\n",
    "    # Do rank-based inverse normal transformation of the phenotypes Age and Sex to make them normally distributed\n",
    "    if normalization == True:\n",
    "        df_pheno['Age'] = inverse_normal_transform(df_pheno['Age'])\n",
    "        df_pheno['Bmi'] = inverse_normal_transform(df_pheno['Bmi'])\n",
    "    df_pheno['Age'] = inverse_normal_transform(df_pheno['Age'])\n",
    "    df_pheno['Bmi'] = inverse_normal_transform(df_pheno['Bmi'])\n",
    "    df_proteome = df_unique.iloc[:, 27:]\n",
    "    \n",
    "    # Remove proteins with only one unique value\n",
    "    df_proteome = df_proteome.loc[:, df_proteome.apply(lambda x: x.nunique()) != 1]\n",
    "    \n",
    "    # Calculate median for proteomic data\n",
    "    df_proteome_median = df_proteome.median(axis=1).reset_index()\n",
    "    df_proteome_median.columns = ['Sample', 'Median']\n",
    "    df_proteome_median.set_index('Sample', inplace=True)\n",
    "    \n",
    "    return df_pheno, df_proteome, df_proteome_median, df_unique\n",
    "\n"
   ]
  },
  {
   "cell_type": "code",
   "execution_count": null,
   "metadata": {},
   "outputs": [],
   "source": [
    "\n",
    "#anml data\n",
    "df_phen_anml, df_proteome_anml, df_proteome_median_anml, df_unique_anml = process_somalogic_data('anml', 1, True)\n",
    "proteins_anml = df_proteome_anml.columns\n",
    "display(df_phen_anml.head())"
   ]
  },
  {
   "cell_type": "code",
   "execution_count": 5,
   "metadata": {},
   "outputs": [
    {
     "name": "stderr",
     "output_type": "stream",
     "text": [
      "/tmp/ipykernel_554498/3900744756.py:21: DtypeWarning: Columns (18) have mixed types. Specify dtype option on import or set low_memory=False.\n",
      "  merged_df = pd.read_csv('../../data/somalogic/Preprocessed_data_preANML/Somalogic_Merged_All.csv')\n"
     ]
    }
   ],
   "source": [
    "# pre-anml data\n",
    "df_phen_preanml, df_proteome_preanml, df_proteome_median_preanml, df_unique_preanml = process_somalogic_data('preanml', 1, True)\n",
    "proteins_preanml = df_proteome_preanml.columns"
   ]
  },
  {
   "cell_type": "code",
   "execution_count": 6,
   "metadata": {},
   "outputs": [],
   "source": [
    "# read the inforamtion on different platform versions\n",
    "def return_protein_list():\n",
    "    #read xlsx file\n",
    "    df1 = pd.read_excel('../../platform_analytes_list/somalogic_5k.xlsx', header=1)\n",
    "    #display(df1.head())\n",
    "    uniprot_list_v1 = df1['UniProt'].tolist()\n",
    "    sequence_list_v1 = df1['SeqId'].tolist()\n",
    "\n",
    "    df2 = pd.read_excel('../../platform_analytes_list/somalogic_7k.xlsx', header=1)\n",
    "    #display(df2.head())\n",
    "    uniprot_list_v2 = df2['UniProt'].tolist()\n",
    "    sequence_list_v2 = df2['SeqId'].tolist()\n",
    "\n",
    "\n",
    "\n",
    "    df3 = pd.read_csv('../../data/somalogic/Preprocessed_data/Somalogic_Analyte_Annotation_All.csv',header=0)\n",
    "    #display(df3.head())\n",
    "    data3 = df3.loc[:, ['SeqId', 'UniProt']]\n",
    "    #display(data3.head())\n",
    "    uniprot_list_v3 = df3['UniProt'].tolist()\n",
    "    sequence_list_v3 = df3['AptName'].tolist()\n",
    "\n",
    "    df_lod = pd.read_csv(\"../../data/somalogic/Preprocessed_data/SomaLogic_HighProportionProteins_0.2.csv\")\n",
    "    uniprot_lod = df_lod['UniProt'].to_list()\n",
    "    seq_lod = df_lod['AptName'].to_list()\n",
    "\n",
    "    #convert names of the analytes to the same format for all, 1000-28 will be converted to seq.1000.28\n",
    "    def format_seqid(seqid_list):\n",
    "        return [f\"seq.{entry.replace('-', '.')}\" for entry in seqid_list]\n",
    "\n",
    "    # Convert sequence lists to new format\n",
    "    sequence_list_v1 = format_seqid(sequence_list_v1)\n",
    "    sequence_list_v2 = format_seqid(sequence_list_v2)\n",
    "\n",
    "\n",
    "    uniprot_to_seqid = dict(zip(data3['UniProt'], data3['SeqId']))\n",
    "\n",
    "    #function to convert uniprot to olinkid\n",
    "    def convert_uniprot_to_seqid(uniprot_list, uniprot_to_seqid):\n",
    "        return list(filter(None, map(lambda uniprot: uniprot_to_seqid.get(uniprot), uniprot_list)))\n",
    "\n",
    "    uniprot_list_set1 = uniprot_list_v1\n",
    "    uniprot_list_set2 = list(set(uniprot_list_v2) - set(uniprot_list_v1))\n",
    "    uniprot_list_set3 = list(set(uniprot_list_v3) - set(uniprot_list_v2))\n",
    "\n",
    "    sequence_list_set1 = sequence_list_v1\n",
    "    sequence_list_set2 = list(set(sequence_list_v2) - set(sequence_list_v1))\n",
    "    sequence_list_set3 = list(set(sequence_list_v3) - set(sequence_list_v2))\n",
    "\n",
    "\n",
    "    return uniprot_list_set1, uniprot_list_set2, uniprot_list_set3, uniprot_lod, sequence_list_set1, sequence_list_set2, sequence_list_set3, seq_lod\n",
    "    \n",
    "#filter the data to only select the required proteins\n",
    "\n",
    "def return_set_breakdown (proteinlist, aptamerlist):\n",
    "    set1, set2, set3, lod, apt_set1, apt_set2, apt_set3, apt_lod  = return_protein_list()\n",
    "    set1_count = len(set(proteinlist) & set(set1))\n",
    "    set2_count = len(set(proteinlist) & set(set2))\n",
    "    set3_count = len(set(proteinlist) & set(set3))\n",
    "    lod_count = len(set(proteinlist) & set(lod))\n",
    "\n",
    "    apt_set1_count = len(set(aptamerlist) & set(apt_set1))\n",
    "    apt_set2_count = len(set(aptamerlist) & set(apt_set2))\n",
    "    apt_set3_count = len(set(aptamerlist) & set(apt_set3))\n",
    "    apt_lod_count = len(set(aptamerlist) & set(apt_lod))\n",
    "    return set1_count, set2_count, set3_count, lod_count, apt_set1_count, apt_set2_count, apt_set3_count, apt_lod_count"
   ]
  },
  {
   "cell_type": "code",
   "execution_count": 7,
   "metadata": {},
   "outputs": [
    {
     "name": "stdout",
     "output_type": "stream",
     "text": [
      "Number of common proteins (UniProt IDs): 1740\n",
      "Number of corresponding SomaLogic IDs: 2136\n",
      "Average SomaLogic IDs per UniProt ID: 1.23\n",
      "Max SomaLogic IDs for a single UniProt ID: 11\n"
     ]
    }
   ],
   "source": [
    "#generate the column names from the common proteins file\n",
    "common_proteins = pd.read_csv(\"common_proteins_soma_olink_thermo.txt\", header=None)\n",
    "common_proteins.columns = ['Proteins']\n",
    "common_proteins_list = common_proteins['Proteins'].tolist()\n",
    "\n",
    "#convert the common_proteins_list which are uniprot IDs to ALL matching SomaLogic IDs\n",
    "def convert_uniprot_to_soma(uniprot_list):\n",
    "    soma_to_uniprot = pd.read_csv(\"Somalogic_Analyte_Annotation_All_anml.csv\")\n",
    "    soma_to_uniprot = soma_to_uniprot.loc[:, ['AptName', 'UniProt']]\n",
    "    \n",
    "    # Filter rows where UniProt is in the common_proteins_list\n",
    "    matching_proteins = soma_to_uniprot[soma_to_uniprot['UniProt'].isin(uniprot_list)]\n",
    "    \n",
    "    # Return all AptNames that match\n",
    "    return matching_proteins['AptName'].tolist()\n",
    "\n",
    "common_proteins_soma = convert_uniprot_to_soma(common_proteins_list)\n",
    "\n",
    "print(f\"Number of common proteins (UniProt IDs): {len(common_proteins_list)}\")\n",
    "print(f\"Number of corresponding SomaLogic IDs: {len(common_proteins_soma)}\")\n",
    "\n",
    "# Optional: Check the mapping ratio\n",
    "soma_annotation = pd.read_csv(\"Somalogic_Analyte_Annotation_All_anml.csv\")\n",
    "mapping_counts = soma_annotation[soma_annotation['UniProt'].isin(common_proteins_list)].groupby('UniProt').size()\n",
    "print(f\"Average SomaLogic IDs per UniProt ID: {mapping_counts.mean():.2f}\")\n",
    "print(f\"Max SomaLogic IDs for a single UniProt ID: {mapping_counts.max()}\")"
   ]
  },
  {
   "cell_type": "code",
   "execution_count": 13,
   "metadata": {},
   "outputs": [],
   "source": [
    "def common(df_unique, use_common_samples=True, use_common_proteins=True):\n",
    "    if use_common_samples:\n",
    "        # Read common samples\n",
    "        common_samples = pd.read_csv(\"common_samples.csv\", header=None)\n",
    "        common_samples.columns = ['FREG0_PID']\n",
    "\n",
    "        # Filter the samples from df_unique\n",
    "        df_unique_filter = df_unique[df_unique['FREG0_PID'].isin(common_samples['FREG0_PID'])]\n",
    "    else:\n",
    "        df_unique_filter = df_unique\n",
    "\n",
    "    if use_common_proteins:\n",
    "       # Filter the proteins from df_unique_filter using common_proteins\n",
    "        df_unique_proteome = df_unique_filter.iloc[:, 27:]  # Changed from 24: to 27:\n",
    "        df_unique_proteome = df_unique_proteome[common_proteins_soma]\n",
    "    else:\n",
    "        df_unique_proteome = df_unique_filter.iloc[:, 27:]  # Changed from 24: to 27:\n",
    "\n",
    "    # Separate into phenotype and proteomic datasets\n",
    "    df_pheno_filter = df_unique_filter.iloc[:, :27]  # Changed from :24 to :27\n",
    "    df_proteome_filter = df_unique_proteome\n",
    "\n",
    "    # Remove proteins with only one value\n",
    "    df_proteome_filter = df_proteome_filter.loc[:, df_proteome_filter.apply(lambda x: x.nunique()) != 1]\n",
    "\n",
    "    return df_pheno_filter, df_proteome_filter"
   ]
  },
  {
   "cell_type": "code",
   "execution_count": 14,
   "metadata": {},
   "outputs": [
    {
     "name": "stdout",
     "output_type": "stream",
     "text": [
      "============================================================\n",
      "COMMON SAMPLES AND PROTEINS SUMMARY\n",
      "============================================================\n",
      "ANML Dataset:\n",
      "  Number of common samples: 46\n",
      "  Number of common proteins (SeqID): 2136\n",
      "  Number of common proteins (UniProt): 1740\n",
      "\n",
      "Pre-ANML Dataset:\n",
      "  Number of common samples: 46\n",
      "  Number of common proteins (SeqID): 2136\n",
      "  Number of common proteins (UniProt): 1740\n",
      "\n",
      "Comparison:\n",
      "  Same number of samples: True\n",
      "  Same number of proteins: True\n"
     ]
    }
   ],
   "source": [
    "# Apply common filtering to ANML data\n",
    "df_pheno_common_anml, df_proteome_common_anml = common(df_unique_anml, use_common_samples=True, use_common_proteins=True)\n",
    "Protein_ID_common_anml = df_proteome_common_anml.columns\n",
    "\n",
    "# Apply common filtering to pre-ANML data  \n",
    "df_pheno_common_preanml, df_proteome_common_preanml = common(df_unique_preanml, use_common_samples=True, use_common_proteins=True)\n",
    "Protein_ID_common_preanml = df_proteome_common_preanml.columns\n",
    "\n",
    "def somaid_to_uniprot(somalist):\n",
    "    df3 = pd.read_csv('../../data/somalogic/Preprocessed_data/Somalogic_Analyte_Annotation_All.csv',header=0)\n",
    "    data3 = df3.loc[:, ['SeqId', 'UniProt']]\n",
    "    uniprot_list_v3 = df3['UniProt'].tolist()\n",
    "    sequence_list_v3 = df3['SeqId'].tolist()\n",
    "    \n",
    "    def format_seqid(seqid_list):\n",
    "        return [f\"seq.{entry.replace('-', '.')}\" for entry in seqid_list]\n",
    "    \n",
    "    sequence_list_v3 = format_seqid(sequence_list_v3)\n",
    "    seqid_to_uniprot = dict(zip(sequence_list_v3, uniprot_list_v3))\n",
    "    return list(set(list(filter(None, map(lambda soma: seqid_to_uniprot.get(soma), somalist)))))\n",
    "\n",
    "# Get UniProt IDs for ANML common proteins\n",
    "Protein_ID_common_anml_uniprot = somaid_to_uniprot(Protein_ID_common_anml)\n",
    "\n",
    "# Get UniProt IDs for pre-ANML common proteins\n",
    "Protein_ID_common_preanml_uniprot = somaid_to_uniprot(Protein_ID_common_preanml)\n",
    "\n",
    "# Print summary statistics\n",
    "print(\"=\"*60)\n",
    "print(\"COMMON SAMPLES AND PROTEINS SUMMARY\")\n",
    "print(\"=\"*60)\n",
    "\n",
    "print(f\"ANML Dataset:\")\n",
    "print(f\"  Number of common samples: {len(df_pheno_common_anml)}\")\n",
    "print(f\"  Number of common proteins (SeqID): {len(Protein_ID_common_anml)}\")\n",
    "print(f\"  Number of common proteins (UniProt): {len(Protein_ID_common_anml_uniprot)}\")\n",
    "\n",
    "print(f\"\\nPre-ANML Dataset:\")\n",
    "print(f\"  Number of common samples: {len(df_pheno_common_preanml)}\")\n",
    "print(f\"  Number of common proteins (SeqID): {len(Protein_ID_common_preanml)}\")\n",
    "print(f\"  Number of common proteins (UniProt): {len(Protein_ID_common_preanml_uniprot)}\")\n",
    "\n",
    "print(f\"\\nComparison:\")\n",
    "print(f\"  Same number of samples: {len(df_pheno_common_anml) == len(df_pheno_common_preanml)}\")\n",
    "print(f\"  Same number of proteins: {len(Protein_ID_common_anml) == len(Protein_ID_common_preanml)}\")"
   ]
  },
  {
   "cell_type": "markdown",
   "metadata": {},
   "source": [
    "# ANML common samples, common proteins"
   ]
  },
  {
   "cell_type": "code",
   "execution_count": 16,
   "metadata": {},
   "outputs": [
    {
     "name": "stdout",
     "output_type": "stream",
     "text": [
      "Number of samples: 46\n",
      "Number of proteins: 2136\n",
      "Uncorrected p-value threshold: 0.05\n",
      "Bonferroni correction threshold: 2.3408239700374533e-05\n",
      "FDR-corrected p-value threshold for Age: 0.04843353987344548\n",
      "Number of significant results for Age (uncorrected): 271\n",
      "Number of significant results for Age (FDR corrected): 26\n",
      "Number of significant results for Age (Bonferroni corrected): 10\n",
      "Saved all Age associations to ./output/all/soma_anml_age_associations_common_protein_common_sample_fdr_corrected.csv\n",
      "Saved significant Age associations to ./output/significant/soma_anml_age_significant_associations_common_protein_common_sample_fdr_corrected.csv\n",
      "Uncorrected p-value threshold: 0.05\n",
      "Bonferroni correction threshold: 2.3408239700374533e-05\n",
      "FDR-corrected p-value threshold for Sex: nan\n",
      "Number of significant results for Sex (uncorrected): 226\n",
      "Number of significant results for Sex (FDR corrected): 0\n",
      "Number of significant results for Sex (Bonferroni corrected): 0\n",
      "Saved all Sex associations to ./output/all/soma_anml_sex_associations_common_protein_common_sample_fdr_corrected.csv\n",
      "Saved significant Sex associations to ./output/significant/soma_anml_sex_significant_associations_common_protein_common_sample_fdr_corrected.csv\n",
      "Uncorrected p-value threshold: 0.05\n",
      "Bonferroni correction threshold: 2.3408239700374533e-05\n",
      "FDR-corrected p-value threshold for Bmi: 0.04736302783160525\n",
      "Number of significant results for Bmi (uncorrected): 369\n",
      "Number of significant results for Bmi (FDR corrected): 94\n",
      "Number of significant results for Bmi (Bonferroni corrected): 36\n",
      "Saved all Bmi associations to ./output/all/soma_anml_bmi_associations_common_protein_common_sample_fdr_corrected.csv\n",
      "Saved significant Bmi associations to ./output/significant/soma_anml_bmi_significant_associations_common_protein_common_sample_fdr_corrected.csv\n",
      "\n",
      "Age (ANML):\n",
      "Number of total aptamers:  2136 Number of total proteins:  1740\n",
      "Number of lod aptamers:  48 Number of lod proteins:  48\n",
      "Number of significant aptamers: 26 Number of significant proteins:  23\n",
      "Protein Breakdown\n",
      "Age: Set 1: 21/1194, Set 2: 0/267, Set 3: 2/279\n",
      "Age: Below LoD: 0/48, Above LoD: 23/1692\n",
      "Aptamer Breakdown\n",
      "Age: Set 1: 17/1301, Set 2: 6/477, Set 3: 3/358\n",
      "Age: Below LoD: 0/48, Above LoD: 26/2088\n",
      "\n",
      "Sex (ANML):\n",
      "Number of total aptamers:  2136 Number of total proteins:  1740\n",
      "Number of lod aptamers:  48 Number of lod proteins:  48\n",
      "Number of significant aptamers: 0 Number of significant proteins:  0\n",
      "Protein Breakdown\n",
      "Sex: Set 1: 0/1194, Set 2: 0/267, Set 3: 0/279\n",
      "Sex: Below LoD: 0/48, Above LoD: 0/1692\n",
      "Aptamer Breakdown\n",
      "Sex: Set 1: 0/1301, Set 2: 0/477, Set 3: 0/358\n",
      "Sex: Below LoD: 0/48, Above LoD: 0/2088\n",
      "\n",
      "Bmi (ANML):\n",
      "Number of total aptamers:  2136 Number of total proteins:  1740\n",
      "Number of lod aptamers:  48 Number of lod proteins:  48\n",
      "Number of significant aptamers: 94 Number of significant proteins:  82\n",
      "Protein Breakdown\n",
      "Bmi: Set 1: 72/1194, Set 2: 4/267, Set 3: 6/279\n",
      "Bmi: Below LoD: 6/48, Above LoD: 76/1692\n",
      "Aptamer Breakdown\n",
      "Bmi: Set 1: 66/1301, Set 2: 21/477, Set 3: 7/358\n",
      "Bmi: Below LoD: 6/48, Above LoD: 88/2088\n"
     ]
    }
   ],
   "source": [
    "# Perform regression analysis on common samples and proteins for ANML data\n",
    "significant_results_common_anml, top_10_common_anml, lookup_result_common_anml, results_common_anml = perform_regression_fdr(\n",
    "    df_pheno_common_anml, \n",
    "    df_proteome_common_anml, \n",
    "    Protein_ID_common_anml, \n",
    "    \"soma_anml\", \n",
    "    df_proteome_median_anml, \n",
    "    type=\"common_protein_common_sample\"\n",
    ")\n",
    "\n",
    "# Display results breakdown for ANML common data\n",
    "for key in significant_results_common_anml.keys():\n",
    "    set1_count_total, set2_count_total, set3_count_total, lod_count_total, apt_set1_count_total, apt_set2_count_total, apt_set3_count_total, apt_lod_count_total = return_set_breakdown(Protein_ID_common_anml_uniprot, Protein_ID_common_anml)\n",
    "    significant_aptamers = significant_results_common_anml[key]['Protein_ID'].to_list()\n",
    "    associated_proteins = somaid_to_uniprot(significant_aptamers)\n",
    "    \n",
    "    print(f\"\\n{key} (ANML):\")\n",
    "    print(\"Number of total aptamers: \", len(Protein_ID_common_anml), \"Number of total proteins: \", len(Protein_ID_common_anml_uniprot))\n",
    "    print(\"Number of lod aptamers: \", apt_lod_count_total, \"Number of lod proteins: \", lod_count_total)\n",
    "    print(f\"Number of significant aptamers: {len(significant_aptamers)}\", \"Number of significant proteins: \", len(associated_proteins))\n",
    "    set1_count_associated, set2_count_associated, set3_count_associated, lod_count_associated, apt_set1_count_associated, apt_set2_count_associated, apt_set3_count_associated, apt_lod_count_associated = return_set_breakdown(associated_proteins, significant_aptamers)\n",
    "    \n",
    "    print(\"Protein Breakdown\")\n",
    "    print(f\"{key}: Set 1: {set1_count_associated}/{set1_count_total}, Set 2: {set2_count_associated}/{set2_count_total}, Set 3: {set3_count_associated}/{set3_count_total}\")\n",
    "    print(f\"{key}: Below LoD: {lod_count_associated}/{lod_count_total}, Above LoD: {len(associated_proteins) - lod_count_associated}/{len(Protein_ID_common_anml_uniprot) - lod_count_total}\")\n",
    "    \n",
    "    print(\"Aptamer Breakdown\")\n",
    "    print(f\"{key}: Set 1: {apt_set1_count_associated}/{apt_set1_count_total}, Set 2: {apt_set2_count_associated}/{apt_set2_count_total}, Set 3: {apt_set3_count_associated}/{apt_set3_count_total}\")\n",
    "    print(f\"{key}: Below LoD: {apt_lod_count_associated}/{apt_lod_count_total}, Above LoD: {len(significant_aptamers) - apt_lod_count_associated}/{len(Protein_ID_common_anml) - apt_lod_count_total}\")"
   ]
  },
  {
   "cell_type": "code",
   "execution_count": 19,
   "metadata": {},
   "outputs": [
    {
     "name": "stdout",
     "output_type": "stream",
     "text": [
      "Age 23\n",
      "Sex 0\n",
      "Bmi 82\n"
     ]
    }
   ],
   "source": [
    "# collapse the results to unique uniprot ids\n",
    "\n",
    "def collapse_results(results):\n",
    "    collapsed_results = {}\n",
    "    for key in results.keys():\n",
    "        associated_proteins = somaid_to_uniprot(results[key]['Protein_ID'].to_list())\n",
    "        collapsed_results[key] = associated_proteins\n",
    "    return collapsed_results\n",
    "\n",
    "collapsed_results_common = collapse_results(significant_results_common_anml)\n",
    "#print the collapsed results\n",
    "for key in collapsed_results_common.keys():\n",
    "    print(key, len(collapsed_results_common[key]))\n"
   ]
  },
  {
   "cell_type": "markdown",
   "metadata": {},
   "source": [
    "# ANML common samples, all proteins"
   ]
  },
  {
   "cell_type": "code",
   "execution_count": 17,
   "metadata": {},
   "outputs": [
    {
     "name": "stdout",
     "output_type": "stream",
     "text": [
      "Number of samples: 46\n",
      "Number of proteins: 10675\n",
      "Uncorrected p-value threshold: 0.05\n",
      "Bonferroni correction threshold: 4.68384074941452e-06\n",
      "FDR-corrected p-value threshold for Age: 0.0495974181369162\n",
      "Number of significant results for Age (uncorrected): 1133\n",
      "Number of significant results for Age (FDR corrected): 68\n",
      "Number of significant results for Age (Bonferroni corrected): 16\n",
      "Saved all Age associations to ./output/all/soma_anml_age_associations_all_protein_common_sample_fdr_corrected.csv\n",
      "Saved significant Age associations to ./output/significant/soma_anml_age_significant_associations_all_protein_common_sample_fdr_corrected.csv\n",
      "Uncorrected p-value threshold: 0.05\n",
      "Bonferroni correction threshold: 4.68384074941452e-06\n",
      "FDR-corrected p-value threshold for Sex: nan\n",
      "Number of significant results for Sex (uncorrected): 726\n",
      "Number of significant results for Sex (FDR corrected): 0\n",
      "Number of significant results for Sex (Bonferroni corrected): 0\n",
      "Saved all Sex associations to ./output/all/soma_anml_sex_associations_all_protein_common_sample_fdr_corrected.csv\n",
      "Saved significant Sex associations to ./output/significant/soma_anml_sex_significant_associations_all_protein_common_sample_fdr_corrected.csv\n",
      "Uncorrected p-value threshold: 0.05\n",
      "Bonferroni correction threshold: 4.68384074941452e-06\n",
      "FDR-corrected p-value threshold for Bmi: 0.0498924663558649\n",
      "Number of significant results for Bmi (uncorrected): 1761\n",
      "Number of significant results for Bmi (FDR corrected): 438\n",
      "Number of significant results for Bmi (Bonferroni corrected): 56\n",
      "Saved all Bmi associations to ./output/all/soma_anml_bmi_associations_all_protein_common_sample_fdr_corrected.csv\n",
      "Saved significant Bmi associations to ./output/significant/soma_anml_bmi_significant_associations_all_protein_common_sample_fdr_corrected.csv\n",
      "\n",
      "Age (ANML):\n",
      "Number of total aptamers:  10675 Number of total proteins:  9563\n",
      "Number of lod aptamers:  410 Number of lod proteins:  405\n",
      "Number of significant aptamers: 68 Number of significant proteins:  64\n",
      "Protein Breakdown\n",
      "Age: Set 1: 47/4673, Set 2: 8/1657, Set 3: 9/3233\n",
      "Age: Below LoD: 2/405, Above LoD: 62/9158\n",
      "Aptamer Breakdown\n",
      "Age: Set 1: 40/4940, Set 2: 18/2268, Set 3: 10/3467\n",
      "Age: Below LoD: 0/410, Above LoD: 68/10265\n",
      "\n",
      "Sex (ANML):\n",
      "Number of total aptamers:  10675 Number of total proteins:  9563\n",
      "Number of lod aptamers:  410 Number of lod proteins:  405\n",
      "Number of significant aptamers: 0 Number of significant proteins:  0\n",
      "Protein Breakdown\n",
      "Sex: Set 1: 0/4673, Set 2: 0/1657, Set 3: 0/3233\n",
      "Sex: Below LoD: 0/405, Above LoD: 0/9158\n",
      "Aptamer Breakdown\n",
      "Sex: Set 1: 0/4940, Set 2: 0/2268, Set 3: 0/3467\n",
      "Sex: Below LoD: 0/410, Above LoD: 0/10265\n",
      "\n",
      "Bmi (ANML):\n",
      "Number of total aptamers:  10675 Number of total proteins:  9563\n",
      "Number of lod aptamers:  410 Number of lod proteins:  405\n",
      "Number of significant aptamers: 438 Number of significant proteins:  413\n",
      "Protein Breakdown\n",
      "Bmi: Set 1: 224/4673, Set 2: 45/1657, Set 3: 144/3233\n",
      "Bmi: Below LoD: 29/405, Above LoD: 384/9158\n",
      "Aptamer Breakdown\n",
      "Bmi: Set 1: 206/4940, Set 2: 84/2268, Set 3: 148/3467\n",
      "Bmi: Below LoD: 28/410, Above LoD: 410/10265\n"
     ]
    }
   ],
   "source": [
    "# Process ANML data with common samples and all proteins\n",
    "df_pheno_commonsample_anml, df_proteome_commonsample_anml = common(df_unique_anml, use_common_samples=True, use_common_proteins=False)\n",
    "Protein_ID_commonsample_anml = df_proteome_commonsample_anml.columns\n",
    "Protein_ID_commonsample_anml_uniprot = somaid_to_uniprot(Protein_ID_commonsample_anml)\n",
    "\n",
    "\n",
    "significant_results_commonsample_anml, top_10_commonsample_anml, lookup_result_commonsample_anml, results_commonsample_anml = perform_regression_fdr(df_pheno_commonsample_anml, df_proteome_commonsample_anml, Protein_ID_commonsample_anml, \"soma_anml\", df_proteome_median_anml, type=\"all_protein_common_sample\")\n",
    "\n",
    "for key in significant_results_commonsample_anml.keys():\n",
    "    set1_count_total, set2_count_total, set3_count_total, lod_count, apt_set1_count_total, apt_set2_count_total, apt_set3_count_total, apt_lod_count = return_set_breakdown(Protein_ID_commonsample_anml_uniprot, Protein_ID_commonsample_anml)\n",
    "    significant_aptamers = significant_results_commonsample_anml[key]['Protein_ID'].to_list()\n",
    "    associated_proteins = somaid_to_uniprot(significant_aptamers)\n",
    "    print(f\"\\n{key} (ANML):\")\n",
    "    print(\"Number of total aptamers: \", len(Protein_ID_commonsample_anml), \"Number of total proteins: \", len(Protein_ID_commonsample_anml_uniprot))\n",
    "    print(\"Number of lod aptamers: \", apt_lod_count, \"Number of lod proteins: \", lod_count)\n",
    "    print(f\"Number of significant aptamers: {len(significant_aptamers)}\", \"Number of significant proteins: \", len(associated_proteins))\n",
    "    set1_count_associated, set2_count_associated, set3_count_associated, lod_count_associated, apt_set1_count_associated, apt_set2_count_associated, apt_set3_count_associated, apt_lod_count_associated = return_set_breakdown(associated_proteins, significant_aptamers)\n",
    "    print(\"Protein Breakdown\")\n",
    "    print(f\"{key}: Set 1: {set1_count_associated}/{set1_count_total}, Set 2: {set2_count_associated}/{set2_count_total}, Set 3: {set3_count_associated}/{set3_count_total}\")\n",
    "    print(f\"{key}: Below LoD: {lod_count_associated}/{lod_count}, Above LoD: {len(associated_proteins) - (lod_count_associated)}/{len(Protein_ID_commonsample_anml_uniprot) - lod_count}\")\n",
    "    print(\"Aptamer Breakdown\")\n",
    "    print(f\"{key}: Set 1: {apt_set1_count_associated}/{apt_set1_count_total}, Set 2: {apt_set2_count_associated}/{apt_set2_count_total}, Set 3: {apt_set3_count_associated}/{apt_set3_count_total}\")\n",
    "    print(f\"{key}: Below LoD: {apt_lod_count_associated}/{apt_lod_count}, Above LoD: {len(significant_aptamers) - (apt_lod_count_associated)}/{len(Protein_ID_commonsample_anml) - apt_lod_count}\")\n"
   ]
  },
  {
   "cell_type": "code",
   "execution_count": 20,
   "metadata": {},
   "outputs": [
    {
     "name": "stdout",
     "output_type": "stream",
     "text": [
      "Age 64\n",
      "Sex 0\n",
      "Bmi 413\n"
     ]
    }
   ],
   "source": [
    "# collapse the results to unique uniprot ids\n",
    "collapsed_results_commonsample = collapse_results(significant_results_commonsample_anml)\n",
    "#print the collapsed results\n",
    "for key in collapsed_results_commonsample.keys():\n",
    "    print(key, len(collapsed_results_commonsample[key]))"
   ]
  },
  {
   "cell_type": "markdown",
   "metadata": {},
   "source": [
    "# preANML common samples, common proteins"
   ]
  },
  {
   "cell_type": "code",
   "execution_count": 21,
   "metadata": {},
   "outputs": [
    {
     "name": "stdout",
     "output_type": "stream",
     "text": [
      "Number of samples: 46\n",
      "Number of proteins: 2136\n",
      "Uncorrected p-value threshold: 0.05\n",
      "Bonferroni correction threshold: 2.3408239700374533e-05\n",
      "FDR-corrected p-value threshold for Age: 0.04469049659356662\n",
      "Number of significant results for Age (uncorrected): 187\n",
      "Number of significant results for Age (FDR corrected): 18\n",
      "Number of significant results for Age (Bonferroni corrected): 7\n",
      "Saved all Age associations to ./output/all/soma_preanml_age_associations_common_protein_common_sample_fdr_corrected.csv\n",
      "Saved significant Age associations to ./output/significant/soma_preanml_age_significant_associations_common_protein_common_sample_fdr_corrected.csv\n",
      "Uncorrected p-value threshold: 0.05\n",
      "Bonferroni correction threshold: 2.3408239700374533e-05\n",
      "FDR-corrected p-value threshold for Sex: nan\n",
      "Number of significant results for Sex (uncorrected): 579\n",
      "Number of significant results for Sex (FDR corrected): 0\n",
      "Number of significant results for Sex (Bonferroni corrected): 0\n",
      "Saved all Sex associations to ./output/all/soma_preanml_sex_associations_common_protein_common_sample_fdr_corrected.csv\n",
      "Saved significant Sex associations to ./output/significant/soma_preanml_sex_significant_associations_common_protein_common_sample_fdr_corrected.csv\n",
      "Uncorrected p-value threshold: 0.05\n",
      "Bonferroni correction threshold: 2.3408239700374533e-05\n",
      "FDR-corrected p-value threshold for Bmi: 0.04955828023663799\n",
      "Number of significant results for Bmi (uncorrected): 620\n",
      "Number of significant results for Bmi (FDR corrected): 276\n",
      "Number of significant results for Bmi (Bonferroni corrected): 54\n",
      "Saved all Bmi associations to ./output/all/soma_preanml_bmi_associations_common_protein_common_sample_fdr_corrected.csv\n",
      "Saved significant Bmi associations to ./output/significant/soma_preanml_bmi_significant_associations_common_protein_common_sample_fdr_corrected.csv\n",
      "\n",
      "Age (Pre-ANML):\n",
      "Number of total aptamers:  2136 Number of total proteins:  1740\n",
      "Number of lod aptamers:  48 Number of lod proteins:  48\n",
      "Number of significant aptamers: 18 Number of significant proteins:  17\n",
      "Protein Breakdown\n",
      "Age: Set 1: 15/1194, Set 2: 0/267, Set 3: 2/279\n",
      "Age: Below LoD: 0/48, Above LoD: 17/1692\n",
      "Aptamer Breakdown\n",
      "Age: Set 1: 11/1301, Set 2: 5/477, Set 3: 2/358\n",
      "Age: Below LoD: 0/48, Above LoD: 18/2088\n",
      "\n",
      "Sex (Pre-ANML):\n",
      "Number of total aptamers:  2136 Number of total proteins:  1740\n",
      "Number of lod aptamers:  48 Number of lod proteins:  48\n",
      "Number of significant aptamers: 0 Number of significant proteins:  0\n",
      "Protein Breakdown\n",
      "Sex: Set 1: 0/1194, Set 2: 0/267, Set 3: 0/279\n",
      "Sex: Below LoD: 0/48, Above LoD: 0/1692\n",
      "Aptamer Breakdown\n",
      "Sex: Set 1: 0/1301, Set 2: 0/477, Set 3: 0/358\n",
      "Sex: Below LoD: 0/48, Above LoD: 0/2088\n",
      "\n",
      "Bmi (Pre-ANML):\n",
      "Number of total aptamers:  2136 Number of total proteins:  1740\n",
      "Number of lod aptamers:  48 Number of lod proteins:  48\n",
      "Number of significant aptamers: 276 Number of significant proteins:  237\n",
      "Protein Breakdown\n",
      "Bmi: Set 1: 182/1194, Set 2: 24/267, Set 3: 31/279\n",
      "Bmi: Below LoD: 4/48, Above LoD: 233/1692\n",
      "Aptamer Breakdown\n",
      "Bmi: Set 1: 174/1301, Set 2: 60/477, Set 3: 42/358\n",
      "Bmi: Below LoD: 2/48, Above LoD: 274/2088\n"
     ]
    }
   ],
   "source": [
    "# Perform regression analysis on common samples and proteins for pre-ANML data\n",
    "significant_results_common_preanml, top_10_common_preanml, lookup_result_common_preanml, results_common_preanml = perform_regression_fdr(\n",
    "    df_pheno_common_preanml, \n",
    "    df_proteome_common_preanml, \n",
    "    Protein_ID_common_preanml, \n",
    "    \"soma_preanml\", \n",
    "    df_proteome_median_preanml, \n",
    "    type=\"common_protein_common_sample\"\n",
    ")\n",
    "\n",
    "# Display results breakdown for pre-ANML common data\n",
    "for key in significant_results_common_preanml.keys():\n",
    "    set1_count_total, set2_count_total, set3_count_total, lod_count_total, apt_set1_count_total, apt_set2_count_total, apt_set3_count_total, apt_lod_count_total = return_set_breakdown(Protein_ID_common_preanml_uniprot, Protein_ID_common_preanml)\n",
    "    significant_aptamers = significant_results_common_preanml[key]['Protein_ID'].to_list()\n",
    "    associated_proteins = somaid_to_uniprot(significant_aptamers)\n",
    "    \n",
    "    print(f\"\\n{key} (Pre-ANML):\")\n",
    "    print(\"Number of total aptamers: \", len(Protein_ID_common_preanml), \"Number of total proteins: \", len(Protein_ID_common_preanml_uniprot))\n",
    "    print(\"Number of lod aptamers: \", apt_lod_count_total, \"Number of lod proteins: \", lod_count_total)\n",
    "    print(f\"Number of significant aptamers: {len(significant_aptamers)}\", \"Number of significant proteins: \", len(associated_proteins))\n",
    "    set1_count_associated, set2_count_associated, set3_count_associated, lod_count_associated, apt_set1_count_associated, apt_set2_count_associated, apt_set3_count_associated, apt_lod_count_associated = return_set_breakdown(associated_proteins, significant_aptamers)\n",
    "    \n",
    "    print(\"Protein Breakdown\")\n",
    "    print(f\"{key}: Set 1: {set1_count_associated}/{set1_count_total}, Set 2: {set2_count_associated}/{set2_count_total}, Set 3: {set3_count_associated}/{set3_count_total}\")\n",
    "    print(f\"{key}: Below LoD: {lod_count_associated}/{lod_count_total}, Above LoD: {len(associated_proteins) - lod_count_associated}/{len(Protein_ID_common_preanml_uniprot) - lod_count_total}\")\n",
    "    \n",
    "    print(\"Aptamer Breakdown\")\n",
    "    print(f\"{key}: Set 1: {apt_set1_count_associated}/{apt_set1_count_total}, Set 2: {apt_set2_count_associated}/{apt_set2_count_total}, Set 3: {apt_set3_count_associated}/{apt_set3_count_total}\")\n",
    "    print(f\"{key}: Below LoD: {apt_lod_count_associated}/{apt_lod_count_total}, Above LoD: {len(significant_aptamers) - apt_lod_count_associated}/{len(Protein_ID_common_preanml) - apt_lod_count_total}\")"
   ]
  },
  {
   "cell_type": "markdown",
   "metadata": {},
   "source": [
    "# preANML common samples, all proteins"
   ]
  },
  {
   "cell_type": "code",
   "execution_count": 22,
   "metadata": {},
   "outputs": [
    {
     "name": "stdout",
     "output_type": "stream",
     "text": [
      "Number of proteins in terms on unique UniProt IDs (Pre-ANML): 9563\n",
      "Number of samples: 46\n",
      "Number of proteins: 10675\n",
      "Uncorrected p-value threshold: 0.05\n",
      "Bonferroni correction threshold: 4.68384074941452e-06\n",
      "FDR-corrected p-value threshold for Age: 0.0480891564542309\n",
      "Number of significant results for Age (uncorrected): 634\n",
      "Number of significant results for Age (FDR corrected): 31\n",
      "Number of significant results for Age (Bonferroni corrected): 11\n",
      "Saved all Age associations to ./output/all/soma_preanml_age_associations_all_protein_common_sample_fdr_corrected.csv\n",
      "Saved significant Age associations to ./output/significant/soma_preanml_age_significant_associations_all_protein_common_sample_fdr_corrected.csv\n",
      "Uncorrected p-value threshold: 0.05\n",
      "Bonferroni correction threshold: 4.68384074941452e-06\n",
      "FDR-corrected p-value threshold for Sex: nan\n",
      "Number of significant results for Sex (uncorrected): 3239\n",
      "Number of significant results for Sex (FDR corrected): 0\n",
      "Number of significant results for Sex (Bonferroni corrected): 0\n",
      "Saved all Sex associations to ./output/all/soma_preanml_sex_associations_all_protein_common_sample_fdr_corrected.csv\n",
      "Saved significant Sex associations to ./output/significant/soma_preanml_sex_significant_associations_all_protein_common_sample_fdr_corrected.csv\n",
      "Uncorrected p-value threshold: 0.05\n",
      "Bonferroni correction threshold: 4.68384074941452e-06\n",
      "FDR-corrected p-value threshold for Bmi: 0.049930787934166915\n",
      "Number of significant results for Bmi (uncorrected): 3229\n",
      "Number of significant results for Bmi (FDR corrected): 1184\n",
      "Number of significant results for Bmi (Bonferroni corrected): 74\n",
      "Saved all Bmi associations to ./output/all/soma_preanml_bmi_associations_all_protein_common_sample_fdr_corrected.csv\n",
      "Saved significant Bmi associations to ./output/significant/soma_preanml_bmi_significant_associations_all_protein_common_sample_fdr_corrected.csv\n",
      "\n",
      "Age (Pre-ANML):\n",
      "Number of total aptamers:  10675 Number of total proteins:  9563\n",
      "Number of lod aptamers:  410 Number of lod proteins:  405\n",
      "Number of significant aptamers: 31 Number of significant proteins:  29\n",
      "Protein Breakdown\n",
      "Age: Set 1: 23/4673, Set 2: 3/1657, Set 3: 3/3233\n",
      "Age: Below LoD: 0/405, Above LoD: 29/9158\n",
      "Aptamer Breakdown\n",
      "Age: Set 1: 20/4940, Set 2: 8/2268, Set 3: 3/3467\n",
      "Age: Below LoD: 0/410, Above LoD: 31/10265\n",
      "\n",
      "Sex (Pre-ANML):\n",
      "Number of total aptamers:  10675 Number of total proteins:  9563\n",
      "Number of lod aptamers:  410 Number of lod proteins:  405\n",
      "Number of significant aptamers: 0 Number of significant proteins:  0\n",
      "Protein Breakdown\n",
      "Sex: Set 1: 0/4673, Set 2: 0/1657, Set 3: 0/3233\n",
      "Sex: Below LoD: 0/405, Above LoD: 0/9158\n",
      "Aptamer Breakdown\n",
      "Sex: Set 1: 0/4940, Set 2: 0/2268, Set 3: 0/3467\n",
      "Sex: Below LoD: 0/410, Above LoD: 0/10265\n",
      "\n",
      "Bmi (Pre-ANML):\n",
      "Number of total aptamers:  10675 Number of total proteins:  9563\n",
      "Number of lod aptamers:  410 Number of lod proteins:  405\n",
      "Number of significant aptamers: 1184 Number of significant proteins:  1128\n",
      "Protein Breakdown\n",
      "Bmi: Set 1: 624/4673, Set 2: 135/1657, Set 3: 369/3233\n",
      "Bmi: Below LoD: 11/405, Above LoD: 1117/9158\n",
      "Aptamer Breakdown\n",
      "Bmi: Set 1: 576/4940, Set 2: 220/2268, Set 3: 388/3467\n",
      "Bmi: Below LoD: 4/410, Above LoD: 1180/10265\n"
     ]
    }
   ],
   "source": [
    "# Process pre-ANML data with common samples and all proteins\n",
    "df_pheno_commonsample_preanml, df_proteome_commonsample_preanml = common(df_unique_preanml, use_common_samples=True, use_common_proteins=False)\n",
    "Protein_ID_commonsample_preanml = df_proteome_commonsample_preanml.columns\n",
    "Protein_ID_commonsample_preanml_uniprot = somaid_to_uniprot(Protein_ID_commonsample_preanml)\n",
    "#length of proteins\n",
    "print(f\"Number of proteins in terms on unique UniProt IDs (Pre-ANML): {len(Protein_ID_commonsample_preanml_uniprot)}\")\n",
    "\n",
    "significant_results_commonsample_preanml, top_10_commonsample_preanml, lookup_result_commonsample_preanml, results_commonsample_preanml = perform_regression_fdr(df_pheno_commonsample_preanml, df_proteome_commonsample_preanml, Protein_ID_commonsample_preanml, \"soma_preanml\", df_proteome_median_preanml, type=\"all_protein_common_sample\")\n",
    "\n",
    "for key in significant_results_commonsample_preanml.keys():\n",
    "    set1_count_total, set2_count_total, set3_count_total, lod_count, apt_set1_count_total, apt_set2_count_total, apt_set3_count_total, apt_lod_count = return_set_breakdown(Protein_ID_commonsample_preanml_uniprot, Protein_ID_commonsample_preanml)\n",
    "    significant_aptamers = significant_results_commonsample_preanml[key]['Protein_ID'].to_list()\n",
    "    associated_proteins = somaid_to_uniprot(significant_aptamers)\n",
    "    print(f\"\\n{key} (Pre-ANML):\")\n",
    "    print(\"Number of total aptamers: \", len(Protein_ID_commonsample_preanml), \"Number of total proteins: \", len(Protein_ID_commonsample_preanml_uniprot))\n",
    "    print(\"Number of lod aptamers: \", apt_lod_count, \"Number of lod proteins: \", lod_count)\n",
    "    print(f\"Number of significant aptamers: {len(significant_aptamers)}\", \"Number of significant proteins: \", len(associated_proteins))\n",
    "    set1_count_associated, set2_count_associated, set3_count_associated, lod_count_associated, apt_set1_count_associated, apt_set2_count_associated, apt_set3_count_associated, apt_lod_count_associated = return_set_breakdown(associated_proteins, significant_aptamers)\n",
    "    print(\"Protein Breakdown\")\n",
    "    print(f\"{key}: Set 1: {set1_count_associated}/{set1_count_total}, Set 2: {set2_count_associated}/{set2_count_total}, Set 3: {set3_count_associated}/{set3_count_total}\")\n",
    "    print(f\"{key}: Below LoD: {lod_count_associated}/{lod_count}, Above LoD: {len(associated_proteins) - (lod_count_associated)}/{len(Protein_ID_commonsample_preanml_uniprot) - lod_count}\")\n",
    "    print(\"Aptamer Breakdown\")\n",
    "    print(f\"{key}: Set 1: {apt_set1_count_associated}/{apt_set1_count_total}, Set 2: {apt_set2_count_associated}/{apt_set2_count_total}, Set 3: {apt_set3_count_associated}/{apt_set3_count_total}\")\n",
    "    print(f\"{key}: Below LoD: {apt_lod_count_associated}/{apt_lod_count}, Above LoD: {len(significant_aptamers) - (apt_lod_count_associated)}/{len(Protein_ID_commonsample_preanml) - apt_lod_count}\")"
   ]
  },
  {
   "cell_type": "markdown",
   "metadata": {},
   "source": [
    "# All results together"
   ]
  },
  {
   "cell_type": "code",
   "execution_count": 23,
   "metadata": {},
   "outputs": [
    {
     "data": {
      "text/html": [
       "<pre style=\"white-space:pre;overflow-x:auto;line-height:normal;font-family:Menlo,'DejaVu Sans Mono',consolas,'Courier New',monospace\"><span style=\"color: #ff00ff; text-decoration-color: #ff00ff\">╭─────────────────────────────────────────────────────────────────────────────────────────────────────────────────╮</span>\n",
       "<span style=\"color: #ff00ff; text-decoration-color: #ff00ff\">│ </span><span style=\"color: #c0c0c0; text-decoration-color: #c0c0c0; font-weight: bold\">COMPREHENSIVE SOMALOGIC ASSOCIATION RESULTS COMPARISON</span><span style=\"color: #ff00ff; text-decoration-color: #ff00ff\">                                                          │</span>\n",
       "<span style=\"color: #ff00ff; text-decoration-color: #ff00ff\">╰─────────────────────────────────────────────────────────────────────────────────────────────────────────────────╯</span>\n",
       "</pre>\n"
      ],
      "text/plain": [
       "\u001b[95m╭─────────────────────────────────────────────────────────────────────────────────────────────────────────────────╮\u001b[0m\n",
       "\u001b[95m│\u001b[0m\u001b[95m \u001b[0m\u001b[1;37mCOMPREHENSIVE SOMALOGIC ASSOCIATION RESULTS COMPARISON\u001b[0m\u001b[95m                                                         \u001b[0m\u001b[95m \u001b[0m\u001b[95m│\u001b[0m\n",
       "\u001b[95m╰─────────────────────────────────────────────────────────────────────────────────────────────────────────────────╯\u001b[0m\n"
      ]
     },
     "metadata": {},
     "output_type": "display_data"
    },
    {
     "data": {
      "text/html": [
       "<pre style=\"white-space:pre;overflow-x:auto;line-height:normal;font-family:Menlo,'DejaVu Sans Mono',consolas,'Courier New',monospace\">\n",
       "</pre>\n"
      ],
      "text/plain": [
       "\n"
      ]
     },
     "metadata": {},
     "output_type": "display_data"
    },
    {
     "data": {
      "text/html": [
       "<pre style=\"white-space:pre;overflow-x:auto;line-height:normal;font-family:Menlo,'DejaVu Sans Mono',consolas,'Courier New',monospace\">================================================================================\n",
       "</pre>\n"
      ],
      "text/plain": [
       "================================================================================\n"
      ]
     },
     "metadata": {},
     "output_type": "display_data"
    },
    {
     "data": {
      "text/html": [
       "<pre style=\"white-space:pre;overflow-x:auto;line-height:normal;font-family:Menlo,'DejaVu Sans Mono',consolas,'Courier New',monospace\">DETAILED BREAKDOWN BY SETS AND LOD <span style=\"font-weight: bold\">(</span>APTAMER FOCUSED<span style=\"font-weight: bold\">)</span>\n",
       "</pre>\n"
      ],
      "text/plain": [
       "DETAILED BREAKDOWN BY SETS AND LOD \u001b[1m(\u001b[0mAPTAMER FOCUSED\u001b[1m)\u001b[0m\n"
      ]
     },
     "metadata": {},
     "output_type": "display_data"
    },
    {
     "data": {
      "text/html": [
       "<pre style=\"white-space:pre;overflow-x:auto;line-height:normal;font-family:Menlo,'DejaVu Sans Mono',consolas,'Courier New',monospace\">================================================================================\n",
       "</pre>\n"
      ],
      "text/plain": [
       "================================================================================\n"
      ]
     },
     "metadata": {},
     "output_type": "display_data"
    },
    {
     "data": {
      "text/html": [
       "<pre style=\"white-space:pre;overflow-x:auto;line-height:normal;font-family:Menlo,'DejaVu Sans Mono',consolas,'Courier New',monospace\">\n",
       "Common Samples + Common Proteins - ANML:\n",
       "</pre>\n"
      ],
      "text/plain": [
       "\n",
       "Common Samples + Common Proteins - ANML:\n"
      ]
     },
     "metadata": {},
     "output_type": "display_data"
    },
    {
     "data": {
      "text/html": [
       "<pre style=\"white-space:pre;overflow-x:auto;line-height:normal;font-family:Menlo,'DejaVu Sans Mono',consolas,'Courier New',monospace\">------------------------------------------------------------\n",
       "</pre>\n"
      ],
      "text/plain": [
       "------------------------------------------------------------\n"
      ]
     },
     "metadata": {},
     "output_type": "display_data"
    },
    {
     "data": {
      "text/html": [
       "<pre style=\"white-space:pre;overflow-x:auto;line-height:normal;font-family:Menlo,'DejaVu Sans Mono',consolas,'Courier New',monospace\"><span style=\"font-style: italic\">                          Set and LoD Breakdown - Common Samples + Common Proteins (ANML)                          </span>\n",
       "┏━━━━━━━━━━━┳━━━━━━━━━━━━━━┳━━━━━━━━━━━━━━┳━━━━━━━━━━━━━┳━━━━━━━━━━━━━┳━━━━━━━━━━━━━┳━━━━━━━━━━━━━━┳━━━━━━━━━━━━━━┓\n",
       "┃<span style=\"font-weight: bold\">           </span>┃<span style=\"font-weight: bold\">              </span>┃<span style=\"font-weight: bold\">              </span>┃<span style=\"font-weight: bold\">             </span>┃<span style=\"font-weight: bold\">             </span>┃<span style=\"font-weight: bold\">             </span>┃<span style=\"font-weight: bold\">  Below LoD   </span>┃<span style=\"font-weight: bold\">  Above LoD   </span>┃\n",
       "┃<span style=\"font-weight: bold\"> Phenotype </span>┃<span style=\"font-weight: bold\"> Sig Aptamers </span>┃<span style=\"font-weight: bold\"> Sig Proteins </span>┃<span style=\"font-weight: bold\"> Set 1 (A/P) </span>┃<span style=\"font-weight: bold\"> Set 2 (A/P) </span>┃<span style=\"font-weight: bold\"> Set 3 (A/P) </span>┃<span style=\"font-weight: bold\">    (A/P)     </span>┃<span style=\"font-weight: bold\">    (A/P)     </span>┃\n",
       "┡━━━━━━━━━━━╇━━━━━━━━━━━━━━╇━━━━━━━━━━━━━━╇━━━━━━━━━━━━━╇━━━━━━━━━━━━━╇━━━━━━━━━━━━━╇━━━━━━━━━━━━━━╇━━━━━━━━━━━━━━┩\n",
       "│<span style=\"color: #008080; text-decoration-color: #008080\"> Age       </span>│<span style=\"color: #008000; text-decoration-color: #008000\">      26      </span>│<span style=\"color: #008000; text-decoration-color: #008000\">      23      </span>│<span style=\"color: #808000; text-decoration-color: #808000\">    17/21    </span>│<span style=\"color: #808000; text-decoration-color: #808000\">     6/0     </span>│<span style=\"color: #808000; text-decoration-color: #808000\">     3/2     </span>│<span style=\"color: #800000; text-decoration-color: #800000\">     0/0      </span>│<span style=\"color: #000080; text-decoration-color: #000080\">    26/23     </span>│\n",
       "│<span style=\"color: #008080; text-decoration-color: #008080\"> Sex       </span>│<span style=\"color: #008000; text-decoration-color: #008000\">      0       </span>│<span style=\"color: #008000; text-decoration-color: #008000\">      0       </span>│<span style=\"color: #808000; text-decoration-color: #808000\">     0/0     </span>│<span style=\"color: #808000; text-decoration-color: #808000\">     0/0     </span>│<span style=\"color: #808000; text-decoration-color: #808000\">     0/0     </span>│<span style=\"color: #800000; text-decoration-color: #800000\">     0/0      </span>│<span style=\"color: #000080; text-decoration-color: #000080\">     0/0      </span>│\n",
       "│<span style=\"color: #008080; text-decoration-color: #008080\"> Bmi       </span>│<span style=\"color: #008000; text-decoration-color: #008000\">      94      </span>│<span style=\"color: #008000; text-decoration-color: #008000\">      82      </span>│<span style=\"color: #808000; text-decoration-color: #808000\">    66/72    </span>│<span style=\"color: #808000; text-decoration-color: #808000\">    21/4     </span>│<span style=\"color: #808000; text-decoration-color: #808000\">     7/6     </span>│<span style=\"color: #800000; text-decoration-color: #800000\">     6/6      </span>│<span style=\"color: #000080; text-decoration-color: #000080\">    88/76     </span>│\n",
       "│<span style=\"color: #008080; text-decoration-color: #008080\"> TOTAL     </span>│<span style=\"color: #008000; text-decoration-color: #008000\">     2136     </span>│<span style=\"color: #008000; text-decoration-color: #008000\">     1740     </span>│<span style=\"color: #808000; text-decoration-color: #808000\">  1301/1194  </span>│<span style=\"color: #808000; text-decoration-color: #808000\">   477/267   </span>│<span style=\"color: #808000; text-decoration-color: #808000\">   358/279   </span>│<span style=\"color: #800000; text-decoration-color: #800000\">    48/48     </span>│<span style=\"color: #000080; text-decoration-color: #000080\">  2088/1692   </span>│\n",
       "└───────────┴──────────────┴──────────────┴─────────────┴─────────────┴─────────────┴──────────────┴──────────────┘\n",
       "</pre>\n"
      ],
      "text/plain": [
       "\u001b[3m                          Set and LoD Breakdown - Common Samples + Common Proteins (ANML)                          \u001b[0m\n",
       "┏━━━━━━━━━━━┳━━━━━━━━━━━━━━┳━━━━━━━━━━━━━━┳━━━━━━━━━━━━━┳━━━━━━━━━━━━━┳━━━━━━━━━━━━━┳━━━━━━━━━━━━━━┳━━━━━━━━━━━━━━┓\n",
       "┃\u001b[1m           \u001b[0m┃\u001b[1m              \u001b[0m┃\u001b[1m              \u001b[0m┃\u001b[1m             \u001b[0m┃\u001b[1m             \u001b[0m┃\u001b[1m             \u001b[0m┃\u001b[1m \u001b[0m\u001b[1m Below LoD  \u001b[0m\u001b[1m \u001b[0m┃\u001b[1m \u001b[0m\u001b[1m Above LoD  \u001b[0m\u001b[1m \u001b[0m┃\n",
       "┃\u001b[1m \u001b[0m\u001b[1mPhenotype\u001b[0m\u001b[1m \u001b[0m┃\u001b[1m \u001b[0m\u001b[1mSig Aptamers\u001b[0m\u001b[1m \u001b[0m┃\u001b[1m \u001b[0m\u001b[1mSig Proteins\u001b[0m\u001b[1m \u001b[0m┃\u001b[1m \u001b[0m\u001b[1mSet 1 (A/P)\u001b[0m\u001b[1m \u001b[0m┃\u001b[1m \u001b[0m\u001b[1mSet 2 (A/P)\u001b[0m\u001b[1m \u001b[0m┃\u001b[1m \u001b[0m\u001b[1mSet 3 (A/P)\u001b[0m\u001b[1m \u001b[0m┃\u001b[1m \u001b[0m\u001b[1m   (A/P)    \u001b[0m\u001b[1m \u001b[0m┃\u001b[1m \u001b[0m\u001b[1m   (A/P)    \u001b[0m\u001b[1m \u001b[0m┃\n",
       "┡━━━━━━━━━━━╇━━━━━━━━━━━━━━╇━━━━━━━━━━━━━━╇━━━━━━━━━━━━━╇━━━━━━━━━━━━━╇━━━━━━━━━━━━━╇━━━━━━━━━━━━━━╇━━━━━━━━━━━━━━┩\n",
       "│\u001b[36m \u001b[0m\u001b[36mAge      \u001b[0m\u001b[36m \u001b[0m│\u001b[32m \u001b[0m\u001b[32m     26     \u001b[0m\u001b[32m \u001b[0m│\u001b[32m \u001b[0m\u001b[32m     23     \u001b[0m\u001b[32m \u001b[0m│\u001b[33m \u001b[0m\u001b[33m   17/21   \u001b[0m\u001b[33m \u001b[0m│\u001b[33m \u001b[0m\u001b[33m    6/0    \u001b[0m\u001b[33m \u001b[0m│\u001b[33m \u001b[0m\u001b[33m    3/2    \u001b[0m\u001b[33m \u001b[0m│\u001b[31m \u001b[0m\u001b[31m    0/0     \u001b[0m\u001b[31m \u001b[0m│\u001b[34m \u001b[0m\u001b[34m   26/23    \u001b[0m\u001b[34m \u001b[0m│\n",
       "│\u001b[36m \u001b[0m\u001b[36mSex      \u001b[0m\u001b[36m \u001b[0m│\u001b[32m \u001b[0m\u001b[32m     0      \u001b[0m\u001b[32m \u001b[0m│\u001b[32m \u001b[0m\u001b[32m     0      \u001b[0m\u001b[32m \u001b[0m│\u001b[33m \u001b[0m\u001b[33m    0/0    \u001b[0m\u001b[33m \u001b[0m│\u001b[33m \u001b[0m\u001b[33m    0/0    \u001b[0m\u001b[33m \u001b[0m│\u001b[33m \u001b[0m\u001b[33m    0/0    \u001b[0m\u001b[33m \u001b[0m│\u001b[31m \u001b[0m\u001b[31m    0/0     \u001b[0m\u001b[31m \u001b[0m│\u001b[34m \u001b[0m\u001b[34m    0/0     \u001b[0m\u001b[34m \u001b[0m│\n",
       "│\u001b[36m \u001b[0m\u001b[36mBmi      \u001b[0m\u001b[36m \u001b[0m│\u001b[32m \u001b[0m\u001b[32m     94     \u001b[0m\u001b[32m \u001b[0m│\u001b[32m \u001b[0m\u001b[32m     82     \u001b[0m\u001b[32m \u001b[0m│\u001b[33m \u001b[0m\u001b[33m   66/72   \u001b[0m\u001b[33m \u001b[0m│\u001b[33m \u001b[0m\u001b[33m   21/4    \u001b[0m\u001b[33m \u001b[0m│\u001b[33m \u001b[0m\u001b[33m    7/6    \u001b[0m\u001b[33m \u001b[0m│\u001b[31m \u001b[0m\u001b[31m    6/6     \u001b[0m\u001b[31m \u001b[0m│\u001b[34m \u001b[0m\u001b[34m   88/76    \u001b[0m\u001b[34m \u001b[0m│\n",
       "│\u001b[36m \u001b[0m\u001b[36mTOTAL    \u001b[0m\u001b[36m \u001b[0m│\u001b[32m \u001b[0m\u001b[32m    2136    \u001b[0m\u001b[32m \u001b[0m│\u001b[32m \u001b[0m\u001b[32m    1740    \u001b[0m\u001b[32m \u001b[0m│\u001b[33m \u001b[0m\u001b[33m 1301/1194 \u001b[0m\u001b[33m \u001b[0m│\u001b[33m \u001b[0m\u001b[33m  477/267  \u001b[0m\u001b[33m \u001b[0m│\u001b[33m \u001b[0m\u001b[33m  358/279  \u001b[0m\u001b[33m \u001b[0m│\u001b[31m \u001b[0m\u001b[31m   48/48    \u001b[0m\u001b[31m \u001b[0m│\u001b[34m \u001b[0m\u001b[34m 2088/1692  \u001b[0m\u001b[34m \u001b[0m│\n",
       "└───────────┴──────────────┴──────────────┴─────────────┴─────────────┴─────────────┴──────────────┴──────────────┘\n"
      ]
     },
     "metadata": {},
     "output_type": "display_data"
    },
    {
     "data": {
      "text/html": [
       "<pre style=\"white-space:pre;overflow-x:auto;line-height:normal;font-family:Menlo,'DejaVu Sans Mono',consolas,'Courier New',monospace\">\n",
       "Common Samples + Common Proteins - Pre-ANML:\n",
       "</pre>\n"
      ],
      "text/plain": [
       "\n",
       "Common Samples + Common Proteins - Pre-ANML:\n"
      ]
     },
     "metadata": {},
     "output_type": "display_data"
    },
    {
     "data": {
      "text/html": [
       "<pre style=\"white-space:pre;overflow-x:auto;line-height:normal;font-family:Menlo,'DejaVu Sans Mono',consolas,'Courier New',monospace\">------------------------------------------------------------\n",
       "</pre>\n"
      ],
      "text/plain": [
       "------------------------------------------------------------\n"
      ]
     },
     "metadata": {},
     "output_type": "display_data"
    },
    {
     "data": {
      "text/html": [
       "<pre style=\"white-space:pre;overflow-x:auto;line-height:normal;font-family:Menlo,'DejaVu Sans Mono',consolas,'Courier New',monospace\"><span style=\"font-style: italic\">                        Set and LoD Breakdown - Common Samples + Common Proteins (Pre-ANML)                        </span>\n",
       "┏━━━━━━━━━━━┳━━━━━━━━━━━━━━┳━━━━━━━━━━━━━━┳━━━━━━━━━━━━━┳━━━━━━━━━━━━━┳━━━━━━━━━━━━━┳━━━━━━━━━━━━━━┳━━━━━━━━━━━━━━┓\n",
       "┃<span style=\"font-weight: bold\">           </span>┃<span style=\"font-weight: bold\">              </span>┃<span style=\"font-weight: bold\">              </span>┃<span style=\"font-weight: bold\">             </span>┃<span style=\"font-weight: bold\">             </span>┃<span style=\"font-weight: bold\">             </span>┃<span style=\"font-weight: bold\">  Below LoD   </span>┃<span style=\"font-weight: bold\">  Above LoD   </span>┃\n",
       "┃<span style=\"font-weight: bold\"> Phenotype </span>┃<span style=\"font-weight: bold\"> Sig Aptamers </span>┃<span style=\"font-weight: bold\"> Sig Proteins </span>┃<span style=\"font-weight: bold\"> Set 1 (A/P) </span>┃<span style=\"font-weight: bold\"> Set 2 (A/P) </span>┃<span style=\"font-weight: bold\"> Set 3 (A/P) </span>┃<span style=\"font-weight: bold\">    (A/P)     </span>┃<span style=\"font-weight: bold\">    (A/P)     </span>┃\n",
       "┡━━━━━━━━━━━╇━━━━━━━━━━━━━━╇━━━━━━━━━━━━━━╇━━━━━━━━━━━━━╇━━━━━━━━━━━━━╇━━━━━━━━━━━━━╇━━━━━━━━━━━━━━╇━━━━━━━━━━━━━━┩\n",
       "│<span style=\"color: #008080; text-decoration-color: #008080\"> Age       </span>│<span style=\"color: #008000; text-decoration-color: #008000\">      18      </span>│<span style=\"color: #008000; text-decoration-color: #008000\">      17      </span>│<span style=\"color: #808000; text-decoration-color: #808000\">    11/15    </span>│<span style=\"color: #808000; text-decoration-color: #808000\">     5/0     </span>│<span style=\"color: #808000; text-decoration-color: #808000\">     2/2     </span>│<span style=\"color: #800000; text-decoration-color: #800000\">     0/0      </span>│<span style=\"color: #000080; text-decoration-color: #000080\">    18/17     </span>│\n",
       "│<span style=\"color: #008080; text-decoration-color: #008080\"> Sex       </span>│<span style=\"color: #008000; text-decoration-color: #008000\">      0       </span>│<span style=\"color: #008000; text-decoration-color: #008000\">      0       </span>│<span style=\"color: #808000; text-decoration-color: #808000\">     0/0     </span>│<span style=\"color: #808000; text-decoration-color: #808000\">     0/0     </span>│<span style=\"color: #808000; text-decoration-color: #808000\">     0/0     </span>│<span style=\"color: #800000; text-decoration-color: #800000\">     0/0      </span>│<span style=\"color: #000080; text-decoration-color: #000080\">     0/0      </span>│\n",
       "│<span style=\"color: #008080; text-decoration-color: #008080\"> Bmi       </span>│<span style=\"color: #008000; text-decoration-color: #008000\">     276      </span>│<span style=\"color: #008000; text-decoration-color: #008000\">     237      </span>│<span style=\"color: #808000; text-decoration-color: #808000\">   174/182   </span>│<span style=\"color: #808000; text-decoration-color: #808000\">    60/24    </span>│<span style=\"color: #808000; text-decoration-color: #808000\">    42/31    </span>│<span style=\"color: #800000; text-decoration-color: #800000\">     2/4      </span>│<span style=\"color: #000080; text-decoration-color: #000080\">   274/233    </span>│\n",
       "│<span style=\"color: #008080; text-decoration-color: #008080\"> TOTAL     </span>│<span style=\"color: #008000; text-decoration-color: #008000\">     2136     </span>│<span style=\"color: #008000; text-decoration-color: #008000\">     1740     </span>│<span style=\"color: #808000; text-decoration-color: #808000\">  1301/1194  </span>│<span style=\"color: #808000; text-decoration-color: #808000\">   477/267   </span>│<span style=\"color: #808000; text-decoration-color: #808000\">   358/279   </span>│<span style=\"color: #800000; text-decoration-color: #800000\">    48/48     </span>│<span style=\"color: #000080; text-decoration-color: #000080\">  2088/1692   </span>│\n",
       "└───────────┴──────────────┴──────────────┴─────────────┴─────────────┴─────────────┴──────────────┴──────────────┘\n",
       "</pre>\n"
      ],
      "text/plain": [
       "\u001b[3m                        Set and LoD Breakdown - Common Samples + Common Proteins (Pre-ANML)                        \u001b[0m\n",
       "┏━━━━━━━━━━━┳━━━━━━━━━━━━━━┳━━━━━━━━━━━━━━┳━━━━━━━━━━━━━┳━━━━━━━━━━━━━┳━━━━━━━━━━━━━┳━━━━━━━━━━━━━━┳━━━━━━━━━━━━━━┓\n",
       "┃\u001b[1m           \u001b[0m┃\u001b[1m              \u001b[0m┃\u001b[1m              \u001b[0m┃\u001b[1m             \u001b[0m┃\u001b[1m             \u001b[0m┃\u001b[1m             \u001b[0m┃\u001b[1m \u001b[0m\u001b[1m Below LoD  \u001b[0m\u001b[1m \u001b[0m┃\u001b[1m \u001b[0m\u001b[1m Above LoD  \u001b[0m\u001b[1m \u001b[0m┃\n",
       "┃\u001b[1m \u001b[0m\u001b[1mPhenotype\u001b[0m\u001b[1m \u001b[0m┃\u001b[1m \u001b[0m\u001b[1mSig Aptamers\u001b[0m\u001b[1m \u001b[0m┃\u001b[1m \u001b[0m\u001b[1mSig Proteins\u001b[0m\u001b[1m \u001b[0m┃\u001b[1m \u001b[0m\u001b[1mSet 1 (A/P)\u001b[0m\u001b[1m \u001b[0m┃\u001b[1m \u001b[0m\u001b[1mSet 2 (A/P)\u001b[0m\u001b[1m \u001b[0m┃\u001b[1m \u001b[0m\u001b[1mSet 3 (A/P)\u001b[0m\u001b[1m \u001b[0m┃\u001b[1m \u001b[0m\u001b[1m   (A/P)    \u001b[0m\u001b[1m \u001b[0m┃\u001b[1m \u001b[0m\u001b[1m   (A/P)    \u001b[0m\u001b[1m \u001b[0m┃\n",
       "┡━━━━━━━━━━━╇━━━━━━━━━━━━━━╇━━━━━━━━━━━━━━╇━━━━━━━━━━━━━╇━━━━━━━━━━━━━╇━━━━━━━━━━━━━╇━━━━━━━━━━━━━━╇━━━━━━━━━━━━━━┩\n",
       "│\u001b[36m \u001b[0m\u001b[36mAge      \u001b[0m\u001b[36m \u001b[0m│\u001b[32m \u001b[0m\u001b[32m     18     \u001b[0m\u001b[32m \u001b[0m│\u001b[32m \u001b[0m\u001b[32m     17     \u001b[0m\u001b[32m \u001b[0m│\u001b[33m \u001b[0m\u001b[33m   11/15   \u001b[0m\u001b[33m \u001b[0m│\u001b[33m \u001b[0m\u001b[33m    5/0    \u001b[0m\u001b[33m \u001b[0m│\u001b[33m \u001b[0m\u001b[33m    2/2    \u001b[0m\u001b[33m \u001b[0m│\u001b[31m \u001b[0m\u001b[31m    0/0     \u001b[0m\u001b[31m \u001b[0m│\u001b[34m \u001b[0m\u001b[34m   18/17    \u001b[0m\u001b[34m \u001b[0m│\n",
       "│\u001b[36m \u001b[0m\u001b[36mSex      \u001b[0m\u001b[36m \u001b[0m│\u001b[32m \u001b[0m\u001b[32m     0      \u001b[0m\u001b[32m \u001b[0m│\u001b[32m \u001b[0m\u001b[32m     0      \u001b[0m\u001b[32m \u001b[0m│\u001b[33m \u001b[0m\u001b[33m    0/0    \u001b[0m\u001b[33m \u001b[0m│\u001b[33m \u001b[0m\u001b[33m    0/0    \u001b[0m\u001b[33m \u001b[0m│\u001b[33m \u001b[0m\u001b[33m    0/0    \u001b[0m\u001b[33m \u001b[0m│\u001b[31m \u001b[0m\u001b[31m    0/0     \u001b[0m\u001b[31m \u001b[0m│\u001b[34m \u001b[0m\u001b[34m    0/0     \u001b[0m\u001b[34m \u001b[0m│\n",
       "│\u001b[36m \u001b[0m\u001b[36mBmi      \u001b[0m\u001b[36m \u001b[0m│\u001b[32m \u001b[0m\u001b[32m    276     \u001b[0m\u001b[32m \u001b[0m│\u001b[32m \u001b[0m\u001b[32m    237     \u001b[0m\u001b[32m \u001b[0m│\u001b[33m \u001b[0m\u001b[33m  174/182  \u001b[0m\u001b[33m \u001b[0m│\u001b[33m \u001b[0m\u001b[33m   60/24   \u001b[0m\u001b[33m \u001b[0m│\u001b[33m \u001b[0m\u001b[33m   42/31   \u001b[0m\u001b[33m \u001b[0m│\u001b[31m \u001b[0m\u001b[31m    2/4     \u001b[0m\u001b[31m \u001b[0m│\u001b[34m \u001b[0m\u001b[34m  274/233   \u001b[0m\u001b[34m \u001b[0m│\n",
       "│\u001b[36m \u001b[0m\u001b[36mTOTAL    \u001b[0m\u001b[36m \u001b[0m│\u001b[32m \u001b[0m\u001b[32m    2136    \u001b[0m\u001b[32m \u001b[0m│\u001b[32m \u001b[0m\u001b[32m    1740    \u001b[0m\u001b[32m \u001b[0m│\u001b[33m \u001b[0m\u001b[33m 1301/1194 \u001b[0m\u001b[33m \u001b[0m│\u001b[33m \u001b[0m\u001b[33m  477/267  \u001b[0m\u001b[33m \u001b[0m│\u001b[33m \u001b[0m\u001b[33m  358/279  \u001b[0m\u001b[33m \u001b[0m│\u001b[31m \u001b[0m\u001b[31m   48/48    \u001b[0m\u001b[31m \u001b[0m│\u001b[34m \u001b[0m\u001b[34m 2088/1692  \u001b[0m\u001b[34m \u001b[0m│\n",
       "└───────────┴──────────────┴──────────────┴─────────────┴─────────────┴─────────────┴──────────────┴──────────────┘\n"
      ]
     },
     "metadata": {},
     "output_type": "display_data"
    },
    {
     "data": {
      "text/html": [
       "<pre style=\"white-space:pre;overflow-x:auto;line-height:normal;font-family:Menlo,'DejaVu Sans Mono',consolas,'Courier New',monospace\">\n",
       "Common Samples + All Proteins - ANML:\n",
       "</pre>\n"
      ],
      "text/plain": [
       "\n",
       "Common Samples + All Proteins - ANML:\n"
      ]
     },
     "metadata": {},
     "output_type": "display_data"
    },
    {
     "data": {
      "text/html": [
       "<pre style=\"white-space:pre;overflow-x:auto;line-height:normal;font-family:Menlo,'DejaVu Sans Mono',consolas,'Courier New',monospace\">------------------------------------------------------------\n",
       "</pre>\n"
      ],
      "text/plain": [
       "------------------------------------------------------------\n"
      ]
     },
     "metadata": {},
     "output_type": "display_data"
    },
    {
     "data": {
      "text/html": [
       "<pre style=\"white-space:pre;overflow-x:auto;line-height:normal;font-family:Menlo,'DejaVu Sans Mono',consolas,'Courier New',monospace\"><span style=\"font-style: italic\">                           Set and LoD Breakdown - Common Samples + All Proteins (ANML)                            </span>\n",
       "┏━━━━━━━━━━━┳━━━━━━━━━━━━━━┳━━━━━━━━━━━━━━┳━━━━━━━━━━━━━┳━━━━━━━━━━━━━┳━━━━━━━━━━━━━┳━━━━━━━━━━━━━━┳━━━━━━━━━━━━━━┓\n",
       "┃<span style=\"font-weight: bold\">           </span>┃<span style=\"font-weight: bold\">              </span>┃<span style=\"font-weight: bold\">              </span>┃<span style=\"font-weight: bold\">             </span>┃<span style=\"font-weight: bold\">             </span>┃<span style=\"font-weight: bold\">             </span>┃<span style=\"font-weight: bold\">  Below LoD   </span>┃<span style=\"font-weight: bold\">  Above LoD   </span>┃\n",
       "┃<span style=\"font-weight: bold\"> Phenotype </span>┃<span style=\"font-weight: bold\"> Sig Aptamers </span>┃<span style=\"font-weight: bold\"> Sig Proteins </span>┃<span style=\"font-weight: bold\"> Set 1 (A/P) </span>┃<span style=\"font-weight: bold\"> Set 2 (A/P) </span>┃<span style=\"font-weight: bold\"> Set 3 (A/P) </span>┃<span style=\"font-weight: bold\">    (A/P)     </span>┃<span style=\"font-weight: bold\">    (A/P)     </span>┃\n",
       "┡━━━━━━━━━━━╇━━━━━━━━━━━━━━╇━━━━━━━━━━━━━━╇━━━━━━━━━━━━━╇━━━━━━━━━━━━━╇━━━━━━━━━━━━━╇━━━━━━━━━━━━━━╇━━━━━━━━━━━━━━┩\n",
       "│<span style=\"color: #008080; text-decoration-color: #008080\"> Age       </span>│<span style=\"color: #008000; text-decoration-color: #008000\">      68      </span>│<span style=\"color: #008000; text-decoration-color: #008000\">      64      </span>│<span style=\"color: #808000; text-decoration-color: #808000\">    40/47    </span>│<span style=\"color: #808000; text-decoration-color: #808000\">    18/8     </span>│<span style=\"color: #808000; text-decoration-color: #808000\">    10/9     </span>│<span style=\"color: #800000; text-decoration-color: #800000\">     0/2      </span>│<span style=\"color: #000080; text-decoration-color: #000080\">    68/62     </span>│\n",
       "│<span style=\"color: #008080; text-decoration-color: #008080\"> Sex       </span>│<span style=\"color: #008000; text-decoration-color: #008000\">      0       </span>│<span style=\"color: #008000; text-decoration-color: #008000\">      0       </span>│<span style=\"color: #808000; text-decoration-color: #808000\">     0/0     </span>│<span style=\"color: #808000; text-decoration-color: #808000\">     0/0     </span>│<span style=\"color: #808000; text-decoration-color: #808000\">     0/0     </span>│<span style=\"color: #800000; text-decoration-color: #800000\">     0/0      </span>│<span style=\"color: #000080; text-decoration-color: #000080\">     0/0      </span>│\n",
       "│<span style=\"color: #008080; text-decoration-color: #008080\"> Bmi       </span>│<span style=\"color: #008000; text-decoration-color: #008000\">     438      </span>│<span style=\"color: #008000; text-decoration-color: #008000\">     413      </span>│<span style=\"color: #808000; text-decoration-color: #808000\">   206/224   </span>│<span style=\"color: #808000; text-decoration-color: #808000\">    84/45    </span>│<span style=\"color: #808000; text-decoration-color: #808000\">   148/144   </span>│<span style=\"color: #800000; text-decoration-color: #800000\">    28/29     </span>│<span style=\"color: #000080; text-decoration-color: #000080\">   410/384    </span>│\n",
       "│<span style=\"color: #008080; text-decoration-color: #008080\"> TOTAL     </span>│<span style=\"color: #008000; text-decoration-color: #008000\">    10675     </span>│<span style=\"color: #008000; text-decoration-color: #008000\">     9563     </span>│<span style=\"color: #808000; text-decoration-color: #808000\">  4940/4673  </span>│<span style=\"color: #808000; text-decoration-color: #808000\">  2268/1657  </span>│<span style=\"color: #808000; text-decoration-color: #808000\">  3467/3233  </span>│<span style=\"color: #800000; text-decoration-color: #800000\">   410/405    </span>│<span style=\"color: #000080; text-decoration-color: #000080\">  10265/9158  </span>│\n",
       "└───────────┴──────────────┴──────────────┴─────────────┴─────────────┴─────────────┴──────────────┴──────────────┘\n",
       "</pre>\n"
      ],
      "text/plain": [
       "\u001b[3m                           Set and LoD Breakdown - Common Samples + All Proteins (ANML)                            \u001b[0m\n",
       "┏━━━━━━━━━━━┳━━━━━━━━━━━━━━┳━━━━━━━━━━━━━━┳━━━━━━━━━━━━━┳━━━━━━━━━━━━━┳━━━━━━━━━━━━━┳━━━━━━━━━━━━━━┳━━━━━━━━━━━━━━┓\n",
       "┃\u001b[1m           \u001b[0m┃\u001b[1m              \u001b[0m┃\u001b[1m              \u001b[0m┃\u001b[1m             \u001b[0m┃\u001b[1m             \u001b[0m┃\u001b[1m             \u001b[0m┃\u001b[1m \u001b[0m\u001b[1m Below LoD  \u001b[0m\u001b[1m \u001b[0m┃\u001b[1m \u001b[0m\u001b[1m Above LoD  \u001b[0m\u001b[1m \u001b[0m┃\n",
       "┃\u001b[1m \u001b[0m\u001b[1mPhenotype\u001b[0m\u001b[1m \u001b[0m┃\u001b[1m \u001b[0m\u001b[1mSig Aptamers\u001b[0m\u001b[1m \u001b[0m┃\u001b[1m \u001b[0m\u001b[1mSig Proteins\u001b[0m\u001b[1m \u001b[0m┃\u001b[1m \u001b[0m\u001b[1mSet 1 (A/P)\u001b[0m\u001b[1m \u001b[0m┃\u001b[1m \u001b[0m\u001b[1mSet 2 (A/P)\u001b[0m\u001b[1m \u001b[0m┃\u001b[1m \u001b[0m\u001b[1mSet 3 (A/P)\u001b[0m\u001b[1m \u001b[0m┃\u001b[1m \u001b[0m\u001b[1m   (A/P)    \u001b[0m\u001b[1m \u001b[0m┃\u001b[1m \u001b[0m\u001b[1m   (A/P)    \u001b[0m\u001b[1m \u001b[0m┃\n",
       "┡━━━━━━━━━━━╇━━━━━━━━━━━━━━╇━━━━━━━━━━━━━━╇━━━━━━━━━━━━━╇━━━━━━━━━━━━━╇━━━━━━━━━━━━━╇━━━━━━━━━━━━━━╇━━━━━━━━━━━━━━┩\n",
       "│\u001b[36m \u001b[0m\u001b[36mAge      \u001b[0m\u001b[36m \u001b[0m│\u001b[32m \u001b[0m\u001b[32m     68     \u001b[0m\u001b[32m \u001b[0m│\u001b[32m \u001b[0m\u001b[32m     64     \u001b[0m\u001b[32m \u001b[0m│\u001b[33m \u001b[0m\u001b[33m   40/47   \u001b[0m\u001b[33m \u001b[0m│\u001b[33m \u001b[0m\u001b[33m   18/8    \u001b[0m\u001b[33m \u001b[0m│\u001b[33m \u001b[0m\u001b[33m   10/9    \u001b[0m\u001b[33m \u001b[0m│\u001b[31m \u001b[0m\u001b[31m    0/2     \u001b[0m\u001b[31m \u001b[0m│\u001b[34m \u001b[0m\u001b[34m   68/62    \u001b[0m\u001b[34m \u001b[0m│\n",
       "│\u001b[36m \u001b[0m\u001b[36mSex      \u001b[0m\u001b[36m \u001b[0m│\u001b[32m \u001b[0m\u001b[32m     0      \u001b[0m\u001b[32m \u001b[0m│\u001b[32m \u001b[0m\u001b[32m     0      \u001b[0m\u001b[32m \u001b[0m│\u001b[33m \u001b[0m\u001b[33m    0/0    \u001b[0m\u001b[33m \u001b[0m│\u001b[33m \u001b[0m\u001b[33m    0/0    \u001b[0m\u001b[33m \u001b[0m│\u001b[33m \u001b[0m\u001b[33m    0/0    \u001b[0m\u001b[33m \u001b[0m│\u001b[31m \u001b[0m\u001b[31m    0/0     \u001b[0m\u001b[31m \u001b[0m│\u001b[34m \u001b[0m\u001b[34m    0/0     \u001b[0m\u001b[34m \u001b[0m│\n",
       "│\u001b[36m \u001b[0m\u001b[36mBmi      \u001b[0m\u001b[36m \u001b[0m│\u001b[32m \u001b[0m\u001b[32m    438     \u001b[0m\u001b[32m \u001b[0m│\u001b[32m \u001b[0m\u001b[32m    413     \u001b[0m\u001b[32m \u001b[0m│\u001b[33m \u001b[0m\u001b[33m  206/224  \u001b[0m\u001b[33m \u001b[0m│\u001b[33m \u001b[0m\u001b[33m   84/45   \u001b[0m\u001b[33m \u001b[0m│\u001b[33m \u001b[0m\u001b[33m  148/144  \u001b[0m\u001b[33m \u001b[0m│\u001b[31m \u001b[0m\u001b[31m   28/29    \u001b[0m\u001b[31m \u001b[0m│\u001b[34m \u001b[0m\u001b[34m  410/384   \u001b[0m\u001b[34m \u001b[0m│\n",
       "│\u001b[36m \u001b[0m\u001b[36mTOTAL    \u001b[0m\u001b[36m \u001b[0m│\u001b[32m \u001b[0m\u001b[32m   10675    \u001b[0m\u001b[32m \u001b[0m│\u001b[32m \u001b[0m\u001b[32m    9563    \u001b[0m\u001b[32m \u001b[0m│\u001b[33m \u001b[0m\u001b[33m 4940/4673 \u001b[0m\u001b[33m \u001b[0m│\u001b[33m \u001b[0m\u001b[33m 2268/1657 \u001b[0m\u001b[33m \u001b[0m│\u001b[33m \u001b[0m\u001b[33m 3467/3233 \u001b[0m\u001b[33m \u001b[0m│\u001b[31m \u001b[0m\u001b[31m  410/405   \u001b[0m\u001b[31m \u001b[0m│\u001b[34m \u001b[0m\u001b[34m 10265/9158 \u001b[0m\u001b[34m \u001b[0m│\n",
       "└───────────┴──────────────┴──────────────┴─────────────┴─────────────┴─────────────┴──────────────┴──────────────┘\n"
      ]
     },
     "metadata": {},
     "output_type": "display_data"
    },
    {
     "data": {
      "text/html": [
       "<pre style=\"white-space:pre;overflow-x:auto;line-height:normal;font-family:Menlo,'DejaVu Sans Mono',consolas,'Courier New',monospace\">\n",
       "Common Samples + All Proteins - Pre-ANML:\n",
       "</pre>\n"
      ],
      "text/plain": [
       "\n",
       "Common Samples + All Proteins - Pre-ANML:\n"
      ]
     },
     "metadata": {},
     "output_type": "display_data"
    },
    {
     "data": {
      "text/html": [
       "<pre style=\"white-space:pre;overflow-x:auto;line-height:normal;font-family:Menlo,'DejaVu Sans Mono',consolas,'Courier New',monospace\">------------------------------------------------------------\n",
       "</pre>\n"
      ],
      "text/plain": [
       "------------------------------------------------------------\n"
      ]
     },
     "metadata": {},
     "output_type": "display_data"
    },
    {
     "data": {
      "text/html": [
       "<pre style=\"white-space:pre;overflow-x:auto;line-height:normal;font-family:Menlo,'DejaVu Sans Mono',consolas,'Courier New',monospace\"><span style=\"font-style: italic\">                         Set and LoD Breakdown - Common Samples + All Proteins (Pre-ANML)                          </span>\n",
       "┏━━━━━━━━━━━┳━━━━━━━━━━━━━━┳━━━━━━━━━━━━━━┳━━━━━━━━━━━━━┳━━━━━━━━━━━━━┳━━━━━━━━━━━━━┳━━━━━━━━━━━━━━┳━━━━━━━━━━━━━━┓\n",
       "┃<span style=\"font-weight: bold\">           </span>┃<span style=\"font-weight: bold\">              </span>┃<span style=\"font-weight: bold\">              </span>┃<span style=\"font-weight: bold\">             </span>┃<span style=\"font-weight: bold\">             </span>┃<span style=\"font-weight: bold\">             </span>┃<span style=\"font-weight: bold\">  Below LoD   </span>┃<span style=\"font-weight: bold\">  Above LoD   </span>┃\n",
       "┃<span style=\"font-weight: bold\"> Phenotype </span>┃<span style=\"font-weight: bold\"> Sig Aptamers </span>┃<span style=\"font-weight: bold\"> Sig Proteins </span>┃<span style=\"font-weight: bold\"> Set 1 (A/P) </span>┃<span style=\"font-weight: bold\"> Set 2 (A/P) </span>┃<span style=\"font-weight: bold\"> Set 3 (A/P) </span>┃<span style=\"font-weight: bold\">    (A/P)     </span>┃<span style=\"font-weight: bold\">    (A/P)     </span>┃\n",
       "┡━━━━━━━━━━━╇━━━━━━━━━━━━━━╇━━━━━━━━━━━━━━╇━━━━━━━━━━━━━╇━━━━━━━━━━━━━╇━━━━━━━━━━━━━╇━━━━━━━━━━━━━━╇━━━━━━━━━━━━━━┩\n",
       "│<span style=\"color: #008080; text-decoration-color: #008080\"> Age       </span>│<span style=\"color: #008000; text-decoration-color: #008000\">      31      </span>│<span style=\"color: #008000; text-decoration-color: #008000\">      29      </span>│<span style=\"color: #808000; text-decoration-color: #808000\">    20/23    </span>│<span style=\"color: #808000; text-decoration-color: #808000\">     8/3     </span>│<span style=\"color: #808000; text-decoration-color: #808000\">     3/3     </span>│<span style=\"color: #800000; text-decoration-color: #800000\">     0/0      </span>│<span style=\"color: #000080; text-decoration-color: #000080\">    31/29     </span>│\n",
       "│<span style=\"color: #008080; text-decoration-color: #008080\"> Sex       </span>│<span style=\"color: #008000; text-decoration-color: #008000\">      0       </span>│<span style=\"color: #008000; text-decoration-color: #008000\">      0       </span>│<span style=\"color: #808000; text-decoration-color: #808000\">     0/0     </span>│<span style=\"color: #808000; text-decoration-color: #808000\">     0/0     </span>│<span style=\"color: #808000; text-decoration-color: #808000\">     0/0     </span>│<span style=\"color: #800000; text-decoration-color: #800000\">     0/0      </span>│<span style=\"color: #000080; text-decoration-color: #000080\">     0/0      </span>│\n",
       "│<span style=\"color: #008080; text-decoration-color: #008080\"> Bmi       </span>│<span style=\"color: #008000; text-decoration-color: #008000\">     1184     </span>│<span style=\"color: #008000; text-decoration-color: #008000\">     1128     </span>│<span style=\"color: #808000; text-decoration-color: #808000\">   576/624   </span>│<span style=\"color: #808000; text-decoration-color: #808000\">   220/135   </span>│<span style=\"color: #808000; text-decoration-color: #808000\">   388/369   </span>│<span style=\"color: #800000; text-decoration-color: #800000\">     4/11     </span>│<span style=\"color: #000080; text-decoration-color: #000080\">  1180/1117   </span>│\n",
       "│<span style=\"color: #008080; text-decoration-color: #008080\"> TOTAL     </span>│<span style=\"color: #008000; text-decoration-color: #008000\">    10675     </span>│<span style=\"color: #008000; text-decoration-color: #008000\">     9563     </span>│<span style=\"color: #808000; text-decoration-color: #808000\">  4940/4673  </span>│<span style=\"color: #808000; text-decoration-color: #808000\">  2268/1657  </span>│<span style=\"color: #808000; text-decoration-color: #808000\">  3467/3233  </span>│<span style=\"color: #800000; text-decoration-color: #800000\">   410/405    </span>│<span style=\"color: #000080; text-decoration-color: #000080\">  10265/9158  </span>│\n",
       "└───────────┴──────────────┴──────────────┴─────────────┴─────────────┴─────────────┴──────────────┴──────────────┘\n",
       "</pre>\n"
      ],
      "text/plain": [
       "\u001b[3m                         Set and LoD Breakdown - Common Samples + All Proteins (Pre-ANML)                          \u001b[0m\n",
       "┏━━━━━━━━━━━┳━━━━━━━━━━━━━━┳━━━━━━━━━━━━━━┳━━━━━━━━━━━━━┳━━━━━━━━━━━━━┳━━━━━━━━━━━━━┳━━━━━━━━━━━━━━┳━━━━━━━━━━━━━━┓\n",
       "┃\u001b[1m           \u001b[0m┃\u001b[1m              \u001b[0m┃\u001b[1m              \u001b[0m┃\u001b[1m             \u001b[0m┃\u001b[1m             \u001b[0m┃\u001b[1m             \u001b[0m┃\u001b[1m \u001b[0m\u001b[1m Below LoD  \u001b[0m\u001b[1m \u001b[0m┃\u001b[1m \u001b[0m\u001b[1m Above LoD  \u001b[0m\u001b[1m \u001b[0m┃\n",
       "┃\u001b[1m \u001b[0m\u001b[1mPhenotype\u001b[0m\u001b[1m \u001b[0m┃\u001b[1m \u001b[0m\u001b[1mSig Aptamers\u001b[0m\u001b[1m \u001b[0m┃\u001b[1m \u001b[0m\u001b[1mSig Proteins\u001b[0m\u001b[1m \u001b[0m┃\u001b[1m \u001b[0m\u001b[1mSet 1 (A/P)\u001b[0m\u001b[1m \u001b[0m┃\u001b[1m \u001b[0m\u001b[1mSet 2 (A/P)\u001b[0m\u001b[1m \u001b[0m┃\u001b[1m \u001b[0m\u001b[1mSet 3 (A/P)\u001b[0m\u001b[1m \u001b[0m┃\u001b[1m \u001b[0m\u001b[1m   (A/P)    \u001b[0m\u001b[1m \u001b[0m┃\u001b[1m \u001b[0m\u001b[1m   (A/P)    \u001b[0m\u001b[1m \u001b[0m┃\n",
       "┡━━━━━━━━━━━╇━━━━━━━━━━━━━━╇━━━━━━━━━━━━━━╇━━━━━━━━━━━━━╇━━━━━━━━━━━━━╇━━━━━━━━━━━━━╇━━━━━━━━━━━━━━╇━━━━━━━━━━━━━━┩\n",
       "│\u001b[36m \u001b[0m\u001b[36mAge      \u001b[0m\u001b[36m \u001b[0m│\u001b[32m \u001b[0m\u001b[32m     31     \u001b[0m\u001b[32m \u001b[0m│\u001b[32m \u001b[0m\u001b[32m     29     \u001b[0m\u001b[32m \u001b[0m│\u001b[33m \u001b[0m\u001b[33m   20/23   \u001b[0m\u001b[33m \u001b[0m│\u001b[33m \u001b[0m\u001b[33m    8/3    \u001b[0m\u001b[33m \u001b[0m│\u001b[33m \u001b[0m\u001b[33m    3/3    \u001b[0m\u001b[33m \u001b[0m│\u001b[31m \u001b[0m\u001b[31m    0/0     \u001b[0m\u001b[31m \u001b[0m│\u001b[34m \u001b[0m\u001b[34m   31/29    \u001b[0m\u001b[34m \u001b[0m│\n",
       "│\u001b[36m \u001b[0m\u001b[36mSex      \u001b[0m\u001b[36m \u001b[0m│\u001b[32m \u001b[0m\u001b[32m     0      \u001b[0m\u001b[32m \u001b[0m│\u001b[32m \u001b[0m\u001b[32m     0      \u001b[0m\u001b[32m \u001b[0m│\u001b[33m \u001b[0m\u001b[33m    0/0    \u001b[0m\u001b[33m \u001b[0m│\u001b[33m \u001b[0m\u001b[33m    0/0    \u001b[0m\u001b[33m \u001b[0m│\u001b[33m \u001b[0m\u001b[33m    0/0    \u001b[0m\u001b[33m \u001b[0m│\u001b[31m \u001b[0m\u001b[31m    0/0     \u001b[0m\u001b[31m \u001b[0m│\u001b[34m \u001b[0m\u001b[34m    0/0     \u001b[0m\u001b[34m \u001b[0m│\n",
       "│\u001b[36m \u001b[0m\u001b[36mBmi      \u001b[0m\u001b[36m \u001b[0m│\u001b[32m \u001b[0m\u001b[32m    1184    \u001b[0m\u001b[32m \u001b[0m│\u001b[32m \u001b[0m\u001b[32m    1128    \u001b[0m\u001b[32m \u001b[0m│\u001b[33m \u001b[0m\u001b[33m  576/624  \u001b[0m\u001b[33m \u001b[0m│\u001b[33m \u001b[0m\u001b[33m  220/135  \u001b[0m\u001b[33m \u001b[0m│\u001b[33m \u001b[0m\u001b[33m  388/369  \u001b[0m\u001b[33m \u001b[0m│\u001b[31m \u001b[0m\u001b[31m    4/11    \u001b[0m\u001b[31m \u001b[0m│\u001b[34m \u001b[0m\u001b[34m 1180/1117  \u001b[0m\u001b[34m \u001b[0m│\n",
       "│\u001b[36m \u001b[0m\u001b[36mTOTAL    \u001b[0m\u001b[36m \u001b[0m│\u001b[32m \u001b[0m\u001b[32m   10675    \u001b[0m\u001b[32m \u001b[0m│\u001b[32m \u001b[0m\u001b[32m    9563    \u001b[0m\u001b[32m \u001b[0m│\u001b[33m \u001b[0m\u001b[33m 4940/4673 \u001b[0m\u001b[33m \u001b[0m│\u001b[33m \u001b[0m\u001b[33m 2268/1657 \u001b[0m\u001b[33m \u001b[0m│\u001b[33m \u001b[0m\u001b[33m 3467/3233 \u001b[0m\u001b[33m \u001b[0m│\u001b[31m \u001b[0m\u001b[31m  410/405   \u001b[0m\u001b[31m \u001b[0m│\u001b[34m \u001b[0m\u001b[34m 10265/9158 \u001b[0m\u001b[34m \u001b[0m│\n",
       "└───────────┴──────────────┴──────────────┴─────────────┴─────────────┴─────────────┴──────────────┴──────────────┘\n"
      ]
     },
     "metadata": {},
     "output_type": "display_data"
    },
    {
     "data": {
      "text/html": [
       "<pre style=\"white-space:pre;overflow-x:auto;line-height:normal;font-family:Menlo,'DejaVu Sans Mono',consolas,'Courier New',monospace\">\n",
       "================================================================================\n",
       "</pre>\n"
      ],
      "text/plain": [
       "\n",
       "================================================================================\n"
      ]
     },
     "metadata": {},
     "output_type": "display_data"
    },
    {
     "data": {
      "text/html": [
       "<pre style=\"white-space:pre;overflow-x:auto;line-height:normal;font-family:Menlo,'DejaVu Sans Mono',consolas,'Courier New',monospace\">SUMMARY TABLES\n",
       "</pre>\n"
      ],
      "text/plain": [
       "SUMMARY TABLES\n"
      ]
     },
     "metadata": {},
     "output_type": "display_data"
    },
    {
     "data": {
      "text/html": [
       "<pre style=\"white-space:pre;overflow-x:auto;line-height:normal;font-family:Menlo,'DejaVu Sans Mono',consolas,'Courier New',monospace\">================================================================================\n",
       "</pre>\n"
      ],
      "text/plain": [
       "================================================================================\n"
      ]
     },
     "metadata": {},
     "output_type": "display_data"
    },
    {
     "data": {
      "text/html": [
       "<pre style=\"white-space:pre;overflow-x:auto;line-height:normal;font-family:Menlo,'DejaVu Sans Mono',consolas,'Courier New',monospace\"><span style=\"color: #ff00ff; text-decoration-color: #ff00ff; font-weight: bold\">                    OVERALL SUMMARY - All Analyses (Aptamers)                    </span>\n",
       "┏━━━━━━━━━━━━━━━━━━━━━━━━━━━━━━━━━━┳━━━━━━━━━━┳━━━━━┳━━━━━┳━━━━━━┳━━━━━━━━━━━━━━┓\n",
       "┃<span style=\"font-weight: bold\"> Analysis Type                    </span>┃<span style=\"font-weight: bold\"> Dataset  </span>┃<span style=\"font-weight: bold\"> Age </span>┃<span style=\"font-weight: bold\"> Sex </span>┃<span style=\"font-weight: bold\"> BMI  </span>┃<span style=\"font-weight: bold\"> Total Unique </span>┃\n",
       "┡━━━━━━━━━━━━━━━━━━━━━━━━━━━━━━━━━━╇━━━━━━━━━━╇━━━━━╇━━━━━╇━━━━━━╇━━━━━━━━━━━━━━┩\n",
       "│<span style=\"color: #008080; text-decoration-color: #008080\"> Common Samples + Common Proteins </span>│<span style=\"color: #c0c0c0; text-decoration-color: #c0c0c0\"> ANML     </span>│<span style=\"color: #008000; text-decoration-color: #008000\"> 26  </span>│<span style=\"color: #808000; text-decoration-color: #808000\">  0  </span>│<span style=\"color: #800000; text-decoration-color: #800000\">  94  </span>│<span style=\"color: #0000ff; text-decoration-color: #0000ff\">     118      </span>│\n",
       "│<span style=\"color: #008080; text-decoration-color: #008080\">                                  </span>│<span style=\"color: #c0c0c0; text-decoration-color: #c0c0c0\"> Pre-ANML </span>│<span style=\"color: #008000; text-decoration-color: #008000\"> 18  </span>│<span style=\"color: #808000; text-decoration-color: #808000\">  0  </span>│<span style=\"color: #800000; text-decoration-color: #800000\"> 276  </span>│<span style=\"color: #0000ff; text-decoration-color: #0000ff\">     290      </span>│\n",
       "│<span style=\"color: #008080; text-decoration-color: #008080\">                                  </span>│<span style=\"color: #c0c0c0; text-decoration-color: #c0c0c0\">          </span>│<span style=\"color: #008000; text-decoration-color: #008000\">     </span>│<span style=\"color: #808000; text-decoration-color: #808000\">     </span>│<span style=\"color: #800000; text-decoration-color: #800000\">      </span>│<span style=\"color: #0000ff; text-decoration-color: #0000ff\">              </span>│\n",
       "│<span style=\"color: #008080; text-decoration-color: #008080\"> Common Samples + All Proteins    </span>│<span style=\"color: #c0c0c0; text-decoration-color: #c0c0c0\"> ANML     </span>│<span style=\"color: #008000; text-decoration-color: #008000\"> 68  </span>│<span style=\"color: #808000; text-decoration-color: #808000\">  0  </span>│<span style=\"color: #800000; text-decoration-color: #800000\"> 438  </span>│<span style=\"color: #0000ff; text-decoration-color: #0000ff\">     500      </span>│\n",
       "│<span style=\"color: #008080; text-decoration-color: #008080\">                                  </span>│<span style=\"color: #c0c0c0; text-decoration-color: #c0c0c0\"> Pre-ANML </span>│<span style=\"color: #008000; text-decoration-color: #008000\"> 31  </span>│<span style=\"color: #808000; text-decoration-color: #808000\">  0  </span>│<span style=\"color: #800000; text-decoration-color: #800000\"> 1184 </span>│<span style=\"color: #0000ff; text-decoration-color: #0000ff\">     1208     </span>│\n",
       "└──────────────────────────────────┴──────────┴─────┴─────┴──────┴──────────────┘\n",
       "</pre>\n"
      ],
      "text/plain": [
       "\u001b[1;95m                    OVERALL SUMMARY - All Analyses (Aptamers)                    \u001b[0m\n",
       "┏━━━━━━━━━━━━━━━━━━━━━━━━━━━━━━━━━━┳━━━━━━━━━━┳━━━━━┳━━━━━┳━━━━━━┳━━━━━━━━━━━━━━┓\n",
       "┃\u001b[1m \u001b[0m\u001b[1mAnalysis Type                   \u001b[0m\u001b[1m \u001b[0m┃\u001b[1m \u001b[0m\u001b[1mDataset \u001b[0m\u001b[1m \u001b[0m┃\u001b[1m \u001b[0m\u001b[1mAge\u001b[0m\u001b[1m \u001b[0m┃\u001b[1m \u001b[0m\u001b[1mSex\u001b[0m\u001b[1m \u001b[0m┃\u001b[1m \u001b[0m\u001b[1mBMI \u001b[0m\u001b[1m \u001b[0m┃\u001b[1m \u001b[0m\u001b[1mTotal Unique\u001b[0m\u001b[1m \u001b[0m┃\n",
       "┡━━━━━━━━━━━━━━━━━━━━━━━━━━━━━━━━━━╇━━━━━━━━━━╇━━━━━╇━━━━━╇━━━━━━╇━━━━━━━━━━━━━━┩\n",
       "│\u001b[36m \u001b[0m\u001b[36mCommon Samples + Common Proteins\u001b[0m\u001b[36m \u001b[0m│\u001b[37m \u001b[0m\u001b[37mANML    \u001b[0m\u001b[37m \u001b[0m│\u001b[32m \u001b[0m\u001b[32m26 \u001b[0m\u001b[32m \u001b[0m│\u001b[33m \u001b[0m\u001b[33m 0 \u001b[0m\u001b[33m \u001b[0m│\u001b[31m \u001b[0m\u001b[31m 94 \u001b[0m\u001b[31m \u001b[0m│\u001b[94m \u001b[0m\u001b[94m    118     \u001b[0m\u001b[94m \u001b[0m│\n",
       "│\u001b[36m \u001b[0m\u001b[36m                                \u001b[0m\u001b[36m \u001b[0m│\u001b[37m \u001b[0m\u001b[37mPre-ANML\u001b[0m\u001b[37m \u001b[0m│\u001b[32m \u001b[0m\u001b[32m18 \u001b[0m\u001b[32m \u001b[0m│\u001b[33m \u001b[0m\u001b[33m 0 \u001b[0m\u001b[33m \u001b[0m│\u001b[31m \u001b[0m\u001b[31m276 \u001b[0m\u001b[31m \u001b[0m│\u001b[94m \u001b[0m\u001b[94m    290     \u001b[0m\u001b[94m \u001b[0m│\n",
       "│\u001b[36m \u001b[0m\u001b[36m                                \u001b[0m\u001b[36m \u001b[0m│\u001b[37m \u001b[0m\u001b[37m        \u001b[0m\u001b[37m \u001b[0m│\u001b[32m \u001b[0m\u001b[32m   \u001b[0m\u001b[32m \u001b[0m│\u001b[33m \u001b[0m\u001b[33m   \u001b[0m\u001b[33m \u001b[0m│\u001b[31m \u001b[0m\u001b[31m    \u001b[0m\u001b[31m \u001b[0m│\u001b[94m \u001b[0m\u001b[94m            \u001b[0m\u001b[94m \u001b[0m│\n",
       "│\u001b[36m \u001b[0m\u001b[36mCommon Samples + All Proteins   \u001b[0m\u001b[36m \u001b[0m│\u001b[37m \u001b[0m\u001b[37mANML    \u001b[0m\u001b[37m \u001b[0m│\u001b[32m \u001b[0m\u001b[32m68 \u001b[0m\u001b[32m \u001b[0m│\u001b[33m \u001b[0m\u001b[33m 0 \u001b[0m\u001b[33m \u001b[0m│\u001b[31m \u001b[0m\u001b[31m438 \u001b[0m\u001b[31m \u001b[0m│\u001b[94m \u001b[0m\u001b[94m    500     \u001b[0m\u001b[94m \u001b[0m│\n",
       "│\u001b[36m \u001b[0m\u001b[36m                                \u001b[0m\u001b[36m \u001b[0m│\u001b[37m \u001b[0m\u001b[37mPre-ANML\u001b[0m\u001b[37m \u001b[0m│\u001b[32m \u001b[0m\u001b[32m31 \u001b[0m\u001b[32m \u001b[0m│\u001b[33m \u001b[0m\u001b[33m 0 \u001b[0m\u001b[33m \u001b[0m│\u001b[31m \u001b[0m\u001b[31m1184\u001b[0m\u001b[31m \u001b[0m│\u001b[94m \u001b[0m\u001b[94m    1208    \u001b[0m\u001b[94m \u001b[0m│\n",
       "└──────────────────────────────────┴──────────┴─────┴─────┴──────┴──────────────┘\n"
      ]
     },
     "metadata": {},
     "output_type": "display_data"
    },
    {
     "data": {
      "text/html": [
       "<pre style=\"white-space:pre;overflow-x:auto;line-height:normal;font-family:Menlo,'DejaVu Sans Mono',consolas,'Courier New',monospace\">\n",
       "</pre>\n"
      ],
      "text/plain": [
       "\n"
      ]
     },
     "metadata": {},
     "output_type": "display_data"
    },
    {
     "data": {
      "text/html": [
       "<pre style=\"white-space:pre;overflow-x:auto;line-height:normal;font-family:Menlo,'DejaVu Sans Mono',consolas,'Courier New',monospace\"><span style=\"color: #ff00ff; text-decoration-color: #ff00ff; font-weight: bold\">                OVERALL SUMMARY - All Analyses (UniProt Proteins)                </span>\n",
       "┏━━━━━━━━━━━━━━━━━━━━━━━━━━━━━━━━━━┳━━━━━━━━━━┳━━━━━┳━━━━━┳━━━━━━┳━━━━━━━━━━━━━━┓\n",
       "┃<span style=\"font-weight: bold\"> Analysis Type                    </span>┃<span style=\"font-weight: bold\"> Dataset  </span>┃<span style=\"font-weight: bold\"> Age </span>┃<span style=\"font-weight: bold\"> Sex </span>┃<span style=\"font-weight: bold\"> BMI  </span>┃<span style=\"font-weight: bold\"> Total Unique </span>┃\n",
       "┡━━━━━━━━━━━━━━━━━━━━━━━━━━━━━━━━━━╇━━━━━━━━━━╇━━━━━╇━━━━━╇━━━━━━╇━━━━━━━━━━━━━━┩\n",
       "│<span style=\"color: #008080; text-decoration-color: #008080\"> Common Samples + Common Proteins </span>│<span style=\"color: #c0c0c0; text-decoration-color: #c0c0c0\"> ANML     </span>│<span style=\"color: #008000; text-decoration-color: #008000\"> 23  </span>│<span style=\"color: #808000; text-decoration-color: #808000\">  0  </span>│<span style=\"color: #800000; text-decoration-color: #800000\">  82  </span>│<span style=\"color: #0000ff; text-decoration-color: #0000ff\">     102      </span>│\n",
       "│<span style=\"color: #008080; text-decoration-color: #008080\">                                  </span>│<span style=\"color: #c0c0c0; text-decoration-color: #c0c0c0\"> Pre-ANML </span>│<span style=\"color: #008000; text-decoration-color: #008000\"> 17  </span>│<span style=\"color: #808000; text-decoration-color: #808000\">  0  </span>│<span style=\"color: #800000; text-decoration-color: #800000\"> 237  </span>│<span style=\"color: #0000ff; text-decoration-color: #0000ff\">     251      </span>│\n",
       "│<span style=\"color: #008080; text-decoration-color: #008080\">                                  </span>│<span style=\"color: #c0c0c0; text-decoration-color: #c0c0c0\">          </span>│<span style=\"color: #008000; text-decoration-color: #008000\">     </span>│<span style=\"color: #808000; text-decoration-color: #808000\">     </span>│<span style=\"color: #800000; text-decoration-color: #800000\">      </span>│<span style=\"color: #0000ff; text-decoration-color: #0000ff\">              </span>│\n",
       "│<span style=\"color: #008080; text-decoration-color: #008080\"> Common Samples + All Proteins    </span>│<span style=\"color: #c0c0c0; text-decoration-color: #c0c0c0\"> ANML     </span>│<span style=\"color: #008000; text-decoration-color: #008000\"> 64  </span>│<span style=\"color: #808000; text-decoration-color: #808000\">  0  </span>│<span style=\"color: #800000; text-decoration-color: #800000\"> 413  </span>│<span style=\"color: #0000ff; text-decoration-color: #0000ff\">     470      </span>│\n",
       "│<span style=\"color: #008080; text-decoration-color: #008080\">                                  </span>│<span style=\"color: #c0c0c0; text-decoration-color: #c0c0c0\"> Pre-ANML </span>│<span style=\"color: #008000; text-decoration-color: #008000\"> 29  </span>│<span style=\"color: #808000; text-decoration-color: #808000\">  0  </span>│<span style=\"color: #800000; text-decoration-color: #800000\"> 1128 </span>│<span style=\"color: #0000ff; text-decoration-color: #0000ff\">     1151     </span>│\n",
       "└──────────────────────────────────┴──────────┴─────┴─────┴──────┴──────────────┘\n",
       "</pre>\n"
      ],
      "text/plain": [
       "\u001b[1;95m                OVERALL SUMMARY - All Analyses (UniProt Proteins)                \u001b[0m\n",
       "┏━━━━━━━━━━━━━━━━━━━━━━━━━━━━━━━━━━┳━━━━━━━━━━┳━━━━━┳━━━━━┳━━━━━━┳━━━━━━━━━━━━━━┓\n",
       "┃\u001b[1m \u001b[0m\u001b[1mAnalysis Type                   \u001b[0m\u001b[1m \u001b[0m┃\u001b[1m \u001b[0m\u001b[1mDataset \u001b[0m\u001b[1m \u001b[0m┃\u001b[1m \u001b[0m\u001b[1mAge\u001b[0m\u001b[1m \u001b[0m┃\u001b[1m \u001b[0m\u001b[1mSex\u001b[0m\u001b[1m \u001b[0m┃\u001b[1m \u001b[0m\u001b[1mBMI \u001b[0m\u001b[1m \u001b[0m┃\u001b[1m \u001b[0m\u001b[1mTotal Unique\u001b[0m\u001b[1m \u001b[0m┃\n",
       "┡━━━━━━━━━━━━━━━━━━━━━━━━━━━━━━━━━━╇━━━━━━━━━━╇━━━━━╇━━━━━╇━━━━━━╇━━━━━━━━━━━━━━┩\n",
       "│\u001b[36m \u001b[0m\u001b[36mCommon Samples + Common Proteins\u001b[0m\u001b[36m \u001b[0m│\u001b[37m \u001b[0m\u001b[37mANML    \u001b[0m\u001b[37m \u001b[0m│\u001b[32m \u001b[0m\u001b[32m23 \u001b[0m\u001b[32m \u001b[0m│\u001b[33m \u001b[0m\u001b[33m 0 \u001b[0m\u001b[33m \u001b[0m│\u001b[31m \u001b[0m\u001b[31m 82 \u001b[0m\u001b[31m \u001b[0m│\u001b[94m \u001b[0m\u001b[94m    102     \u001b[0m\u001b[94m \u001b[0m│\n",
       "│\u001b[36m \u001b[0m\u001b[36m                                \u001b[0m\u001b[36m \u001b[0m│\u001b[37m \u001b[0m\u001b[37mPre-ANML\u001b[0m\u001b[37m \u001b[0m│\u001b[32m \u001b[0m\u001b[32m17 \u001b[0m\u001b[32m \u001b[0m│\u001b[33m \u001b[0m\u001b[33m 0 \u001b[0m\u001b[33m \u001b[0m│\u001b[31m \u001b[0m\u001b[31m237 \u001b[0m\u001b[31m \u001b[0m│\u001b[94m \u001b[0m\u001b[94m    251     \u001b[0m\u001b[94m \u001b[0m│\n",
       "│\u001b[36m \u001b[0m\u001b[36m                                \u001b[0m\u001b[36m \u001b[0m│\u001b[37m \u001b[0m\u001b[37m        \u001b[0m\u001b[37m \u001b[0m│\u001b[32m \u001b[0m\u001b[32m   \u001b[0m\u001b[32m \u001b[0m│\u001b[33m \u001b[0m\u001b[33m   \u001b[0m\u001b[33m \u001b[0m│\u001b[31m \u001b[0m\u001b[31m    \u001b[0m\u001b[31m \u001b[0m│\u001b[94m \u001b[0m\u001b[94m            \u001b[0m\u001b[94m \u001b[0m│\n",
       "│\u001b[36m \u001b[0m\u001b[36mCommon Samples + All Proteins   \u001b[0m\u001b[36m \u001b[0m│\u001b[37m \u001b[0m\u001b[37mANML    \u001b[0m\u001b[37m \u001b[0m│\u001b[32m \u001b[0m\u001b[32m64 \u001b[0m\u001b[32m \u001b[0m│\u001b[33m \u001b[0m\u001b[33m 0 \u001b[0m\u001b[33m \u001b[0m│\u001b[31m \u001b[0m\u001b[31m413 \u001b[0m\u001b[31m \u001b[0m│\u001b[94m \u001b[0m\u001b[94m    470     \u001b[0m\u001b[94m \u001b[0m│\n",
       "│\u001b[36m \u001b[0m\u001b[36m                                \u001b[0m\u001b[36m \u001b[0m│\u001b[37m \u001b[0m\u001b[37mPre-ANML\u001b[0m\u001b[37m \u001b[0m│\u001b[32m \u001b[0m\u001b[32m29 \u001b[0m\u001b[32m \u001b[0m│\u001b[33m \u001b[0m\u001b[33m 0 \u001b[0m\u001b[33m \u001b[0m│\u001b[31m \u001b[0m\u001b[31m1128\u001b[0m\u001b[31m \u001b[0m│\u001b[94m \u001b[0m\u001b[94m    1151    \u001b[0m\u001b[94m \u001b[0m│\n",
       "└──────────────────────────────────┴──────────┴─────┴─────┴──────┴──────────────┘\n"
      ]
     },
     "metadata": {},
     "output_type": "display_data"
    }
   ],
   "source": [
    "from rich.console import Console\n",
    "from rich.table import Table\n",
    "from rich.panel import Panel\n",
    "from rich.text import Text\n",
    "from rich.columns import Columns\n",
    "\n",
    "console = Console()\n",
    "\n",
    "def create_comprehensive_comparison():\n",
    "    \"\"\"\n",
    "    Create a comprehensive comparison with both individual and combined views\n",
    "    \"\"\"\n",
    "    console.print(Panel(Text(\"COMPREHENSIVE SOMALOGIC ASSOCIATION RESULTS COMPARISON\", style=\"bold white\"), style=\"bright_magenta\"))\n",
    "    console.print()\n",
    "    \n",
    "    # First, create detailed breakdown tables for each analysis\n",
    "    create_detailed_breakdown_tables()\n",
    "    \n",
    "    # Then create the overall summary tables\n",
    "    console.print(\"\\n\" + \"=\"*80)\n",
    "    console.print(\"SUMMARY TABLES\")\n",
    "    console.print(\"=\"*80)\n",
    "    \n",
    "    # Create overall summary table with both aptamers and proteins\n",
    "    overall_table = Table(title=\"OVERALL SUMMARY - All Analyses (Aptamers)\", title_style=\"bold bright_magenta\")\n",
    "    overall_table.add_column(\"Analysis Type\", style=\"cyan\", no_wrap=True)\n",
    "    overall_table.add_column(\"Dataset\", style=\"white\")\n",
    "    overall_table.add_column(\"Age\", justify=\"center\", style=\"green\")\n",
    "    overall_table.add_column(\"Sex\", justify=\"center\", style=\"yellow\")\n",
    "    overall_table.add_column(\"BMI\", justify=\"center\", style=\"red\")\n",
    "    overall_table.add_column(\"Total Unique\", justify=\"center\", style=\"bright_blue\")\n",
    "    \n",
    "    # Create UniProt summary table\n",
    "    uniprot_table = Table(title=\"OVERALL SUMMARY - All Analyses (UniProt Proteins)\", title_style=\"bold bright_magenta\")\n",
    "    uniprot_table.add_column(\"Analysis Type\", style=\"cyan\", no_wrap=True)\n",
    "    uniprot_table.add_column(\"Dataset\", style=\"white\")\n",
    "    uniprot_table.add_column(\"Age\", justify=\"center\", style=\"green\")\n",
    "    uniprot_table.add_column(\"Sex\", justify=\"center\", style=\"yellow\")\n",
    "    uniprot_table.add_column(\"BMI\", justify=\"center\", style=\"red\")\n",
    "    uniprot_table.add_column(\"Total Unique\", justify=\"center\", style=\"bright_blue\")\n",
    "    \n",
    "    analyses = [\n",
    "        (\"Common Samples + Common Proteins\", \"significant_results_common\"),\n",
    "        (\"Common Samples + All Proteins\", \"significant_results_commonsample\")\n",
    "    ]\n",
    "    \n",
    "    datasets = [(\"ANML\", \"_anml\"), (\"Pre-ANML\", \"_preanml\")]\n",
    "    \n",
    "    for analysis_name, results_var in analyses:\n",
    "        for dataset_name, suffix in datasets:\n",
    "            try:\n",
    "                results = globals()[results_var + suffix]\n",
    "                \n",
    "                # Get aptamer counts\n",
    "                age_apt_count = len(results['Age']['Protein_ID'].to_list()) if 'Age' in results else 0\n",
    "                sex_apt_count = len(results['Sex']['Protein_ID'].to_list()) if 'Sex' in results else 0\n",
    "                bmi_apt_count = len(results['Bmi']['Protein_ID'].to_list()) if 'Bmi' in results else 0\n",
    "                \n",
    "                # Get unique aptamers across all phenotypes\n",
    "                all_significant_apt = []\n",
    "                for pheno in ['Age', 'Sex', 'Bmi']:\n",
    "                    if pheno in results:\n",
    "                        all_significant_apt.extend(results[pheno]['Protein_ID'].to_list())\n",
    "                unique_aptamers = len(set(all_significant_apt))\n",
    "                \n",
    "                # Get UniProt protein counts\n",
    "                age_proteins = somaid_to_uniprot(results['Age']['Protein_ID'].to_list()) if 'Age' in results else []\n",
    "                sex_proteins = somaid_to_uniprot(results['Sex']['Protein_ID'].to_list()) if 'Sex' in results else []\n",
    "                bmi_proteins = somaid_to_uniprot(results['Bmi']['Protein_ID'].to_list()) if 'Bmi' in results else []\n",
    "                \n",
    "                age_prot_count = len(age_proteins)\n",
    "                sex_prot_count = len(sex_proteins)\n",
    "                bmi_prot_count = len(bmi_proteins)\n",
    "                \n",
    "                # Get unique proteins across all phenotypes\n",
    "                all_significant_prot = []\n",
    "                all_significant_prot.extend(age_proteins)\n",
    "                all_significant_prot.extend(sex_proteins)\n",
    "                all_significant_prot.extend(bmi_proteins)\n",
    "                unique_proteins = len(set(all_significant_prot))\n",
    "                \n",
    "                # Add rows to both tables\n",
    "                overall_table.add_row(\n",
    "                    analysis_name if dataset_name == \"ANML\" else \"\",\n",
    "                    dataset_name,\n",
    "                    str(age_apt_count),\n",
    "                    str(sex_apt_count), \n",
    "                    str(bmi_apt_count),\n",
    "                    str(unique_aptamers)\n",
    "                )\n",
    "                \n",
    "                uniprot_table.add_row(\n",
    "                    analysis_name if dataset_name == \"ANML\" else \"\",\n",
    "                    dataset_name,\n",
    "                    str(age_prot_count),\n",
    "                    str(sex_prot_count), \n",
    "                    str(bmi_prot_count),\n",
    "                    str(unique_proteins)\n",
    "                )\n",
    "                \n",
    "            except KeyError:\n",
    "                overall_table.add_row(\n",
    "                    analysis_name if dataset_name == \"ANML\" else \"\",\n",
    "                    dataset_name,\n",
    "                    \"N/A\", \"N/A\", \"N/A\", \"N/A\"\n",
    "                )\n",
    "                uniprot_table.add_row(\n",
    "                    analysis_name if dataset_name == \"ANML\" else \"\",\n",
    "                    dataset_name,\n",
    "                    \"N/A\", \"N/A\", \"N/A\", \"N/A\"\n",
    "                )\n",
    "        \n",
    "        # Add empty row as separator between analyses\n",
    "        if analysis_name != analyses[-1][0]:\n",
    "            overall_table.add_row(\"\", \"\", \"\", \"\", \"\", \"\")\n",
    "            uniprot_table.add_row(\"\", \"\", \"\", \"\", \"\", \"\")\n",
    "    \n",
    "    console.print(overall_table)\n",
    "    console.print()\n",
    "    console.print(uniprot_table)\n",
    "\n",
    "def create_detailed_breakdown_tables():\n",
    "    \"\"\"\n",
    "    Create detailed breakdown tables showing sets and LoD information - APTAMER FOCUSED\n",
    "    \"\"\"\n",
    "    console.print(\"=\"*80)\n",
    "    console.print(\"DETAILED BREAKDOWN BY SETS AND LOD (APTAMER FOCUSED)\")\n",
    "    console.print(\"=\"*80)\n",
    "    \n",
    "    analyses = [\n",
    "        (\"Common Samples + Common Proteins\", \"significant_results_common\", \"Protein_ID_common\", \"Protein_ID_common\", \"_uniprot\"),\n",
    "        (\"Common Samples + All Proteins\", \"significant_results_commonsample\", \"Protein_ID_commonsample\", \"Protein_ID_commonsample\", \"_uniprot\")\n",
    "    ]\n",
    "    \n",
    "    datasets = [(\"ANML\", \"_anml\"), (\"Pre-ANML\", \"_preanml\")]\n",
    "    \n",
    "    for analysis_name, results_var, protein_ids_var, protein_base_var, uniprot_suffix in analyses:\n",
    "        for dataset_name, dataset_suffix in datasets:\n",
    "            console.print(f\"\\n{analysis_name} - {dataset_name}:\")\n",
    "            console.print(\"-\" * 60)\n",
    "            \n",
    "            try:\n",
    "                results = globals()[results_var + dataset_suffix]\n",
    "                protein_ids = globals()[protein_ids_var + dataset_suffix]\n",
    "                protein_uniprot = globals()[protein_base_var + dataset_suffix + uniprot_suffix]\n",
    "                \n",
    "                # Create detailed breakdown table - APTAMER FOCUSED\n",
    "                breakdown_table = Table(title=f\"Set and LoD Breakdown - {analysis_name} ({dataset_name})\")\n",
    "                breakdown_table.add_column(\"Phenotype\", style=\"cyan\")\n",
    "                breakdown_table.add_column(\"Sig Aptamers\", justify=\"center\", style=\"green\")\n",
    "                breakdown_table.add_column(\"Sig Proteins\", justify=\"center\", style=\"green\")\n",
    "                breakdown_table.add_column(\"Set 1 (A/P)\", justify=\"center\", style=\"yellow\")\n",
    "                breakdown_table.add_column(\"Set 2 (A/P)\", justify=\"center\", style=\"yellow\") \n",
    "                breakdown_table.add_column(\"Set 3 (A/P)\", justify=\"center\", style=\"yellow\")\n",
    "                breakdown_table.add_column(\"Below LoD (A/P)\", justify=\"center\", style=\"red\")\n",
    "                breakdown_table.add_column(\"Above LoD (A/P)\", justify=\"center\", style=\"blue\")\n",
    "                \n",
    "                # Get total counts once\n",
    "                set1_count_total, set2_count_total, set3_count_total, lod_count_total, apt_set1_count_total, apt_set2_count_total, apt_set3_count_total, apt_lod_count_total = return_set_breakdown(protein_uniprot, protein_ids)\n",
    "                \n",
    "                for phenotype in ['Age', 'Sex', 'Bmi']:\n",
    "                    if phenotype in results:\n",
    "                        significant_aptamers = results[phenotype]['Protein_ID'].to_list()\n",
    "                        associated_proteins = somaid_to_uniprot(significant_aptamers)\n",
    "                        \n",
    "                        set1_count_associated, set2_count_associated, set3_count_associated, lod_count_associated, apt_set1_count_associated, apt_set2_count_associated, apt_set3_count_associated, apt_lod_count_associated = return_set_breakdown(associated_proteins, significant_aptamers)\n",
    "                        \n",
    "                        breakdown_table.add_row(\n",
    "                            phenotype,\n",
    "                            str(len(significant_aptamers)),\n",
    "                            str(len(associated_proteins)),\n",
    "                            f\"{apt_set1_count_associated}/{set1_count_associated}\",\n",
    "                            f\"{apt_set2_count_associated}/{set2_count_associated}\",\n",
    "                            f\"{apt_set3_count_associated}/{set3_count_associated}\",\n",
    "                            f\"{apt_lod_count_associated}/{lod_count_associated}\",\n",
    "                            f\"{len(significant_aptamers) - apt_lod_count_associated}/{len(associated_proteins) - lod_count_associated}\"\n",
    "                        )\n",
    "                    else:\n",
    "                        breakdown_table.add_row(phenotype, \"0\", \"0\", \"0/0\", \"0/0\", \"0/0\", \"0/0\", \"0/0\")\n",
    "                \n",
    "                # Add total row\n",
    "                breakdown_table.add_row(\n",
    "                    \"TOTAL\",\n",
    "                    str(len(protein_ids)),\n",
    "                    str(len(protein_uniprot)),\n",
    "                    f\"{apt_set1_count_total}/{set1_count_total}\",\n",
    "                    f\"{apt_set2_count_total}/{set2_count_total}\",\n",
    "                    f\"{apt_set3_count_total}/{set3_count_total}\",\n",
    "                    f\"{apt_lod_count_total}/{lod_count_total}\",\n",
    "                    f\"{len(protein_ids) - apt_lod_count_total}/{len(protein_uniprot) - lod_count_total}\"\n",
    "                )\n",
    "                \n",
    "                console.print(breakdown_table)\n",
    "                \n",
    "            except KeyError as e:\n",
    "                console.print(f\"Data not available for {analysis_name} - {dataset_name}: {e}\")\n",
    "\n",
    "# Call the comprehensive comparison function\n",
    "create_comprehensive_comparison()"
   ]
  }
 ],
 "metadata": {
  "kernelspec": {
   "display_name": "proteomics",
   "language": "python",
   "name": "python3"
  },
  "language_info": {
   "codemirror_mode": {
    "name": "ipython",
    "version": 3
   },
   "file_extension": ".py",
   "mimetype": "text/x-python",
   "name": "python",
   "nbconvert_exporter": "python",
   "pygments_lexer": "ipython3",
   "version": "3.10.0"
  }
 },
 "nbformat": 4,
 "nbformat_minor": 2
}
